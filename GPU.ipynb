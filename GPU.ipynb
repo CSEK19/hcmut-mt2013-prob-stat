{
  "nbformat": 4,
  "nbformat_minor": 0,
  "metadata": {
    "colab": {
      "name": "GPU.ipynb",
      "provenance": [],
      "collapsed_sections": [
        "x7ZC-hskJ6B3"
      ],
      "mount_file_id": "1ixVXEsUy2YtcCrayuPR6mmMf80pT92nh",
      "authorship_tag": "ABX9TyMBKPJMubEgxhNMq3s3qACu",
      "include_colab_link": true
    },
    "kernelspec": {
      "name": "python3",
      "display_name": "Python 3"
    },
    "language_info": {
      "name": "python"
    }
  },
  "cells": [
    {
      "cell_type": "markdown",
      "metadata": {
        "id": "view-in-github",
        "colab_type": "text"
      },
      "source": [
        "<a href=\"https://colab.research.google.com/github/CSEK19/prob-stat/blob/main/GPU.ipynb\" target=\"_parent\"><img src=\"https://colab.research.google.com/assets/colab-badge.svg\" alt=\"Open In Colab\"/></a>"
      ]
    },
    {
      "cell_type": "markdown",
      "metadata": {
        "id": "P6OLZiW1umTQ"
      },
      "source": [
        "Author: Tran Tien Phat \\\\\n",
        "File:   GPU.ipynb\\\n",
        "Target: Convert object data  to float data"
      ]
    },
    {
      "cell_type": "markdown",
      "metadata": {
        "id": "1jmRfGi_u5um"
      },
      "source": [
        "# Import data"
      ]
    },
    {
      "cell_type": "code",
      "metadata": {
        "id": "g88jnV_MLpvH"
      },
      "source": [
        "import numpy as np\n",
        "import pandas as pd\n",
        "import matplotlib.pyplot as plt\n",
        "import seaborn as sns\n",
        "%matplotlib inline\n",
        "plt.style.use('ggplot')\n",
        "\n",
        "import plotly.offline as py\n",
        "import plotly.graph_objs as go\n",
        "import plotly.tools as tls"
      ],
      "execution_count": null,
      "outputs": []
    },
    {
      "cell_type": "code",
      "metadata": {
        "colab": {
          "base_uri": "https://localhost:8080/"
        },
        "id": "jviILSOduJOX",
        "outputId": "edf3c3ff-21bd-4bee-ea5e-ef5d4e001b99"
      },
      "source": [
        "from google.colab import drive\n",
        "drive.mount('/content/drive')"
      ],
      "execution_count": null,
      "outputs": [
        {
          "output_type": "stream",
          "name": "stdout",
          "text": [
            "Drive already mounted at /content/drive; to attempt to forcibly remount, call drive.mount(\"/content/drive\", force_remount=True).\n"
          ]
        }
      ]
    },
    {
      "cell_type": "code",
      "metadata": {
        "id": "uzrA0orWL67W"
      },
      "source": [
        "dataset = pd.read_csv('drive/MyDrive/Data/XSTK/All_GPUs.csv')"
      ],
      "execution_count": null,
      "outputs": []
    },
    {
      "cell_type": "markdown",
      "metadata": {
        "id": "QwTH4KAOvAl5"
      },
      "source": [
        "# Data discovery\n"
      ]
    },
    {
      "cell_type": "code",
      "metadata": {
        "colab": {
          "base_uri": "https://localhost:8080/"
        },
        "id": "p6YukH3XMURj",
        "outputId": "53604eaa-bdb8-432d-9e19-230b5bf4d21b"
      },
      "source": [
        "dataset.info()\n",
        "dataset.shape"
      ],
      "execution_count": null,
      "outputs": [
        {
          "output_type": "stream",
          "name": "stdout",
          "text": [
            "<class 'pandas.core.frame.DataFrame'>\n",
            "RangeIndex: 3406 entries, 0 to 3405\n",
            "Data columns (total 34 columns):\n",
            " #   Column                  Non-Null Count  Dtype  \n",
            "---  ------                  --------------  -----  \n",
            " 0   Architecture            3344 non-null   object \n",
            " 1   Best_Resolution         2764 non-null   object \n",
            " 2   Boost_Clock             1446 non-null   object \n",
            " 3   Core_Speed              3406 non-null   object \n",
            " 4   DVI_Connection          2656 non-null   float64\n",
            " 5   Dedicated               3392 non-null   object \n",
            " 6   Direct_X                3400 non-null   object \n",
            " 7   DisplayPort_Connection  857 non-null    float64\n",
            " 8   HDMI_Connection         2643 non-null   float64\n",
            " 9   Integrated              3392 non-null   object \n",
            " 10  L2_Cache                3406 non-null   object \n",
            " 11  Manufacturer            3406 non-null   object \n",
            " 12  Max_Power               2781 non-null   object \n",
            " 13  Memory                  2986 non-null   object \n",
            " 14  Memory_Bandwidth        3285 non-null   object \n",
            " 15  Memory_Bus              3344 non-null   object \n",
            " 16  Memory_Speed            3301 non-null   object \n",
            " 17  Memory_Type             3350 non-null   object \n",
            " 18  Name                    3406 non-null   object \n",
            " 19  Notebook_GPU            3406 non-null   object \n",
            " 20  Open_GL                 3366 non-null   float64\n",
            " 21  PSU                     2231 non-null   object \n",
            " 22  Pixel_Rate              2862 non-null   object \n",
            " 23  Power_Connector         2697 non-null   object \n",
            " 24  Process                 2943 non-null   object \n",
            " 25  ROPs                    2868 non-null   object \n",
            " 26  Release_Date            3406 non-null   object \n",
            " 27  Release_Price           556 non-null    object \n",
            " 28  Resolution_WxH          3211 non-null   object \n",
            " 29  SLI_Crossfire           3406 non-null   object \n",
            " 30  Shader                  3299 non-null   float64\n",
            " 31  TMUs                    2868 non-null   float64\n",
            " 32  Texture_Rate            2862 non-null   object \n",
            " 33  VGA_Connection          2648 non-null   float64\n",
            "dtypes: float64(7), object(27)\n",
            "memory usage: 904.8+ KB\n"
          ]
        },
        {
          "output_type": "execute_result",
          "data": {
            "text/plain": [
              "(3406, 34)"
            ]
          },
          "metadata": {},
          "execution_count": 5
        }
      ]
    },
    {
      "cell_type": "code",
      "metadata": {
        "colab": {
          "base_uri": "https://localhost:8080/",
          "height": 940
        },
        "id": "cf37w_lONHUu",
        "outputId": "f1fc1dab-f0a9-44b9-9267-277e9b0c9e60"
      },
      "source": [
        "dataset.head(10)"
      ],
      "execution_count": null,
      "outputs": [
        {
          "output_type": "execute_result",
          "data": {
            "text/html": [
              "<div>\n",
              "<style scoped>\n",
              "    .dataframe tbody tr th:only-of-type {\n",
              "        vertical-align: middle;\n",
              "    }\n",
              "\n",
              "    .dataframe tbody tr th {\n",
              "        vertical-align: top;\n",
              "    }\n",
              "\n",
              "    .dataframe thead th {\n",
              "        text-align: right;\n",
              "    }\n",
              "</style>\n",
              "<table border=\"1\" class=\"dataframe\">\n",
              "  <thead>\n",
              "    <tr style=\"text-align: right;\">\n",
              "      <th></th>\n",
              "      <th>Architecture</th>\n",
              "      <th>Best_Resolution</th>\n",
              "      <th>Boost_Clock</th>\n",
              "      <th>Core_Speed</th>\n",
              "      <th>DVI_Connection</th>\n",
              "      <th>Dedicated</th>\n",
              "      <th>Direct_X</th>\n",
              "      <th>DisplayPort_Connection</th>\n",
              "      <th>HDMI_Connection</th>\n",
              "      <th>Integrated</th>\n",
              "      <th>L2_Cache</th>\n",
              "      <th>Manufacturer</th>\n",
              "      <th>Max_Power</th>\n",
              "      <th>Memory</th>\n",
              "      <th>Memory_Bandwidth</th>\n",
              "      <th>Memory_Bus</th>\n",
              "      <th>Memory_Speed</th>\n",
              "      <th>Memory_Type</th>\n",
              "      <th>Name</th>\n",
              "      <th>Notebook_GPU</th>\n",
              "      <th>Open_GL</th>\n",
              "      <th>PSU</th>\n",
              "      <th>Pixel_Rate</th>\n",
              "      <th>Power_Connector</th>\n",
              "      <th>Process</th>\n",
              "      <th>ROPs</th>\n",
              "      <th>Release_Date</th>\n",
              "      <th>Release_Price</th>\n",
              "      <th>Resolution_WxH</th>\n",
              "      <th>SLI_Crossfire</th>\n",
              "      <th>Shader</th>\n",
              "      <th>TMUs</th>\n",
              "      <th>Texture_Rate</th>\n",
              "      <th>VGA_Connection</th>\n",
              "    </tr>\n",
              "  </thead>\n",
              "  <tbody>\n",
              "    <tr>\n",
              "      <th>0</th>\n",
              "      <td>Tesla G92b</td>\n",
              "      <td>NaN</td>\n",
              "      <td>NaN</td>\n",
              "      <td>738 MHz</td>\n",
              "      <td>2.0</td>\n",
              "      <td>Yes</td>\n",
              "      <td>DX 10.0</td>\n",
              "      <td>NaN</td>\n",
              "      <td>0.0</td>\n",
              "      <td>No</td>\n",
              "      <td>0KB</td>\n",
              "      <td>Nvidia</td>\n",
              "      <td>141 Watts</td>\n",
              "      <td>1024 MB</td>\n",
              "      <td>64GB/sec</td>\n",
              "      <td>256 Bit</td>\n",
              "      <td>1000 MHz</td>\n",
              "      <td>GDDR3</td>\n",
              "      <td>GeForce GTS 150</td>\n",
              "      <td>No</td>\n",
              "      <td>3.3</td>\n",
              "      <td>450 Watt &amp; 38 Amps</td>\n",
              "      <td>12 GPixel/s</td>\n",
              "      <td>None</td>\n",
              "      <td>55nm</td>\n",
              "      <td>16</td>\n",
              "      <td>\\n01-Mar-2009</td>\n",
              "      <td>NaN</td>\n",
              "      <td>2560x1600</td>\n",
              "      <td>Yes</td>\n",
              "      <td>4.0</td>\n",
              "      <td>64.0</td>\n",
              "      <td>47 GTexel/s</td>\n",
              "      <td>0.0</td>\n",
              "    </tr>\n",
              "    <tr>\n",
              "      <th>1</th>\n",
              "      <td>R600 XT</td>\n",
              "      <td>1366 x 768</td>\n",
              "      <td>NaN</td>\n",
              "      <td>\\n-</td>\n",
              "      <td>2.0</td>\n",
              "      <td>Yes</td>\n",
              "      <td>DX 10</td>\n",
              "      <td>NaN</td>\n",
              "      <td>0.0</td>\n",
              "      <td>No</td>\n",
              "      <td>0KB</td>\n",
              "      <td>AMD</td>\n",
              "      <td>215 Watts</td>\n",
              "      <td>512 MB</td>\n",
              "      <td>106GB/sec</td>\n",
              "      <td>512 Bit</td>\n",
              "      <td>828 MHz</td>\n",
              "      <td>GDDR3</td>\n",
              "      <td>Radeon HD 2900 XT 512MB</td>\n",
              "      <td>No</td>\n",
              "      <td>3.1</td>\n",
              "      <td>550 Watt &amp; 35 Amps</td>\n",
              "      <td>12 GPixel/s</td>\n",
              "      <td>None</td>\n",
              "      <td>80nm</td>\n",
              "      <td>16</td>\n",
              "      <td>\\n14-May-2007</td>\n",
              "      <td>NaN</td>\n",
              "      <td>2560x1600</td>\n",
              "      <td>Yes</td>\n",
              "      <td>4.0</td>\n",
              "      <td>16.0</td>\n",
              "      <td>12 GTexel/s</td>\n",
              "      <td>0.0</td>\n",
              "    </tr>\n",
              "    <tr>\n",
              "      <th>2</th>\n",
              "      <td>R600 PRO</td>\n",
              "      <td>1366 x 768</td>\n",
              "      <td>NaN</td>\n",
              "      <td>\\n-</td>\n",
              "      <td>2.0</td>\n",
              "      <td>Yes</td>\n",
              "      <td>DX 10</td>\n",
              "      <td>NaN</td>\n",
              "      <td>0.0</td>\n",
              "      <td>No</td>\n",
              "      <td>0KB</td>\n",
              "      <td>AMD</td>\n",
              "      <td>200 Watts</td>\n",
              "      <td>512 MB</td>\n",
              "      <td>51.2GB/sec</td>\n",
              "      <td>256 Bit</td>\n",
              "      <td>800 MHz</td>\n",
              "      <td>GDDR3</td>\n",
              "      <td>Radeon HD 2900 Pro</td>\n",
              "      <td>No</td>\n",
              "      <td>3.1</td>\n",
              "      <td>550 Watt &amp; 35 Amps</td>\n",
              "      <td>10 GPixel/s</td>\n",
              "      <td>None</td>\n",
              "      <td>80nm</td>\n",
              "      <td>16</td>\n",
              "      <td>\\n07-Dec-2007</td>\n",
              "      <td>NaN</td>\n",
              "      <td>2560x1600</td>\n",
              "      <td>Yes</td>\n",
              "      <td>4.0</td>\n",
              "      <td>16.0</td>\n",
              "      <td>10 GTexel/s</td>\n",
              "      <td>0.0</td>\n",
              "    </tr>\n",
              "    <tr>\n",
              "      <th>3</th>\n",
              "      <td>RV630</td>\n",
              "      <td>1024 x 768</td>\n",
              "      <td>NaN</td>\n",
              "      <td>\\n-</td>\n",
              "      <td>2.0</td>\n",
              "      <td>Yes</td>\n",
              "      <td>DX 10</td>\n",
              "      <td>NaN</td>\n",
              "      <td>0.0</td>\n",
              "      <td>No</td>\n",
              "      <td>0KB</td>\n",
              "      <td>AMD</td>\n",
              "      <td>NaN</td>\n",
              "      <td>256 MB</td>\n",
              "      <td>36.8GB/sec</td>\n",
              "      <td>128 Bit</td>\n",
              "      <td>1150 MHz</td>\n",
              "      <td>GDDR4</td>\n",
              "      <td>Radeon HD 2600 XT Diamond Edition</td>\n",
              "      <td>No</td>\n",
              "      <td>3.3</td>\n",
              "      <td>NaN</td>\n",
              "      <td>3 GPixel/s</td>\n",
              "      <td>None</td>\n",
              "      <td>65nm</td>\n",
              "      <td>4</td>\n",
              "      <td>\\n01-Jul-2007</td>\n",
              "      <td>NaN</td>\n",
              "      <td>2560x1600</td>\n",
              "      <td>Yes</td>\n",
              "      <td>4.0</td>\n",
              "      <td>8.0</td>\n",
              "      <td>7 GTexel/s</td>\n",
              "      <td>0.0</td>\n",
              "    </tr>\n",
              "    <tr>\n",
              "      <th>4</th>\n",
              "      <td>RV630</td>\n",
              "      <td>1024 x 768</td>\n",
              "      <td>NaN</td>\n",
              "      <td>\\n-</td>\n",
              "      <td>2.0</td>\n",
              "      <td>Yes</td>\n",
              "      <td>DX 10</td>\n",
              "      <td>NaN</td>\n",
              "      <td>0.0</td>\n",
              "      <td>No</td>\n",
              "      <td>0KB</td>\n",
              "      <td>AMD</td>\n",
              "      <td>45 Watts</td>\n",
              "      <td>256 MB</td>\n",
              "      <td>22.4GB/sec</td>\n",
              "      <td>128 Bit</td>\n",
              "      <td>700 MHz</td>\n",
              "      <td>GDDR3</td>\n",
              "      <td>Radeon HD 2600 XT</td>\n",
              "      <td>No</td>\n",
              "      <td>3.1</td>\n",
              "      <td>400 Watt &amp; 25 Amps</td>\n",
              "      <td>3 GPixel/s</td>\n",
              "      <td>None</td>\n",
              "      <td>65nm</td>\n",
              "      <td>4</td>\n",
              "      <td>\\n28-Jun-2007</td>\n",
              "      <td>NaN</td>\n",
              "      <td>2560x1600</td>\n",
              "      <td>Yes</td>\n",
              "      <td>4.0</td>\n",
              "      <td>8.0</td>\n",
              "      <td>6 GTexel/s</td>\n",
              "      <td>0.0</td>\n",
              "    </tr>\n",
              "    <tr>\n",
              "      <th>5</th>\n",
              "      <td>RV630</td>\n",
              "      <td>1024 x 768</td>\n",
              "      <td>NaN</td>\n",
              "      <td>\\n-</td>\n",
              "      <td>2.0</td>\n",
              "      <td>Yes</td>\n",
              "      <td>DX 10</td>\n",
              "      <td>NaN</td>\n",
              "      <td>0.0</td>\n",
              "      <td>No</td>\n",
              "      <td>0KB</td>\n",
              "      <td>AMD</td>\n",
              "      <td>50 Watts</td>\n",
              "      <td>256 MB</td>\n",
              "      <td>35.2GB/sec</td>\n",
              "      <td>128 Bit</td>\n",
              "      <td>1100 MHz</td>\n",
              "      <td>GDDR4</td>\n",
              "      <td>Radeon HD 2600 XT 256MB GDDR4</td>\n",
              "      <td>No</td>\n",
              "      <td>3.3</td>\n",
              "      <td>400 Watt &amp; 26 Amps</td>\n",
              "      <td>3 GPixel/s</td>\n",
              "      <td>None</td>\n",
              "      <td>65nm</td>\n",
              "      <td>4</td>\n",
              "      <td>\\n26-Jun-2007</td>\n",
              "      <td>NaN</td>\n",
              "      <td>2560x1600</td>\n",
              "      <td>Yes</td>\n",
              "      <td>4.0</td>\n",
              "      <td>8.0</td>\n",
              "      <td>6 GTexel/s</td>\n",
              "      <td>0.0</td>\n",
              "    </tr>\n",
              "    <tr>\n",
              "      <th>6</th>\n",
              "      <td>R700 RV790 XT</td>\n",
              "      <td>1920 x 1080</td>\n",
              "      <td>NaN</td>\n",
              "      <td>870 MHz</td>\n",
              "      <td>1.0</td>\n",
              "      <td>Yes</td>\n",
              "      <td>DX 10.1</td>\n",
              "      <td>NaN</td>\n",
              "      <td>1.0</td>\n",
              "      <td>No</td>\n",
              "      <td>0KB</td>\n",
              "      <td>AMD</td>\n",
              "      <td>190 Watts</td>\n",
              "      <td>2048 MB</td>\n",
              "      <td>134.4GB/sec</td>\n",
              "      <td>256 Bit</td>\n",
              "      <td>1050 MHz</td>\n",
              "      <td>GDDR5</td>\n",
              "      <td>Radeon HD 4890 Sapphire Vapor-X OC 2GB Edition</td>\n",
              "      <td>No</td>\n",
              "      <td>3.3</td>\n",
              "      <td>500 Watt &amp; 37 Amps</td>\n",
              "      <td>14 GPixel/s</td>\n",
              "      <td>2x 6-pin</td>\n",
              "      <td>55nm</td>\n",
              "      <td>16</td>\n",
              "      <td>\\n13-Jul-2009</td>\n",
              "      <td>NaN</td>\n",
              "      <td>2560x1600</td>\n",
              "      <td>Yes</td>\n",
              "      <td>4.1</td>\n",
              "      <td>40.0</td>\n",
              "      <td>35 GTexel/s</td>\n",
              "      <td>1.0</td>\n",
              "    </tr>\n",
              "    <tr>\n",
              "      <th>7</th>\n",
              "      <td>R600 GT</td>\n",
              "      <td>1024 x 768</td>\n",
              "      <td>NaN</td>\n",
              "      <td>\\n-</td>\n",
              "      <td>2.0</td>\n",
              "      <td>Yes</td>\n",
              "      <td>DX 10</td>\n",
              "      <td>NaN</td>\n",
              "      <td>0.0</td>\n",
              "      <td>No</td>\n",
              "      <td>0KB</td>\n",
              "      <td>AMD</td>\n",
              "      <td>150 Watts</td>\n",
              "      <td>256 MB</td>\n",
              "      <td>51.2GB/sec</td>\n",
              "      <td>256 Bit</td>\n",
              "      <td>800 MHz</td>\n",
              "      <td>GDDR3</td>\n",
              "      <td>Radeon HD 2900 GT</td>\n",
              "      <td>No</td>\n",
              "      <td>3.1</td>\n",
              "      <td>550 Watt &amp; 30 Amps</td>\n",
              "      <td>7 GPixel/s</td>\n",
              "      <td>None</td>\n",
              "      <td>80nm</td>\n",
              "      <td>12</td>\n",
              "      <td>\\n06-Nov-2007</td>\n",
              "      <td>NaN</td>\n",
              "      <td>2560x1600</td>\n",
              "      <td>Yes</td>\n",
              "      <td>4.0</td>\n",
              "      <td>12.0</td>\n",
              "      <td>7 GTexel/s</td>\n",
              "      <td>0.0</td>\n",
              "    </tr>\n",
              "    <tr>\n",
              "      <th>8</th>\n",
              "      <td>Pitcairn XT GL</td>\n",
              "      <td>1920 x 1080</td>\n",
              "      <td>NaN</td>\n",
              "      <td>\\n-</td>\n",
              "      <td>0.0</td>\n",
              "      <td>Yes</td>\n",
              "      <td>DX 11.2</td>\n",
              "      <td>NaN</td>\n",
              "      <td>0.0</td>\n",
              "      <td>No</td>\n",
              "      <td>0KB</td>\n",
              "      <td>AMD</td>\n",
              "      <td>150 Watts</td>\n",
              "      <td>2048 MB</td>\n",
              "      <td>160GB/sec</td>\n",
              "      <td>256 Bit</td>\n",
              "      <td>1250 MHz</td>\n",
              "      <td>GDDR5</td>\n",
              "      <td>FirePro D300</td>\n",
              "      <td>No</td>\n",
              "      <td>4.3</td>\n",
              "      <td>500 Watt &amp; 20 Amps</td>\n",
              "      <td>25 GPixel/s</td>\n",
              "      <td>None</td>\n",
              "      <td>28nm</td>\n",
              "      <td>32</td>\n",
              "      <td>\\n18-Jan-2014</td>\n",
              "      <td>NaN</td>\n",
              "      <td>4096x2160</td>\n",
              "      <td>Yes</td>\n",
              "      <td>5.0</td>\n",
              "      <td>80.0</td>\n",
              "      <td>62 GTexel/s</td>\n",
              "      <td>0.0</td>\n",
              "    </tr>\n",
              "    <tr>\n",
              "      <th>9</th>\n",
              "      <td>RV100</td>\n",
              "      <td>NaN</td>\n",
              "      <td>NaN</td>\n",
              "      <td>\\n-</td>\n",
              "      <td>NaN</td>\n",
              "      <td>Yes</td>\n",
              "      <td>DX 7</td>\n",
              "      <td>NaN</td>\n",
              "      <td>NaN</td>\n",
              "      <td>No</td>\n",
              "      <td>0KB</td>\n",
              "      <td>AMD</td>\n",
              "      <td>32 Watts</td>\n",
              "      <td>64 MB</td>\n",
              "      <td>2.9GB/sec</td>\n",
              "      <td>64 Bit</td>\n",
              "      <td>366 MHz</td>\n",
              "      <td>DDR</td>\n",
              "      <td>Radeon 7000 64mb</td>\n",
              "      <td>No</td>\n",
              "      <td>1.4</td>\n",
              "      <td>NaN</td>\n",
              "      <td>NaN</td>\n",
              "      <td>None</td>\n",
              "      <td>NaN</td>\n",
              "      <td>NaN</td>\n",
              "      <td>\\n02-Jan-2001</td>\n",
              "      <td>NaN</td>\n",
              "      <td>1600x1200</td>\n",
              "      <td>No</td>\n",
              "      <td>1.0</td>\n",
              "      <td>NaN</td>\n",
              "      <td>NaN</td>\n",
              "      <td>NaN</td>\n",
              "    </tr>\n",
              "  </tbody>\n",
              "</table>\n",
              "</div>"
            ],
            "text/plain": [
              "      Architecture Best_Resolution  ... Texture_Rate VGA_Connection\n",
              "0      Tesla G92b              NaN  ...  47 GTexel/s            0.0\n",
              "1         R600 XT       1366 x 768  ...  12 GTexel/s            0.0\n",
              "2        R600 PRO       1366 x 768  ...  10 GTexel/s            0.0\n",
              "3           RV630       1024 x 768  ...   7 GTexel/s            0.0\n",
              "4           RV630       1024 x 768  ...   6 GTexel/s            0.0\n",
              "5           RV630       1024 x 768  ...   6 GTexel/s            0.0\n",
              "6   R700 RV790 XT      1920 x 1080  ...  35 GTexel/s            1.0\n",
              "7         R600 GT       1024 x 768  ...   7 GTexel/s            0.0\n",
              "8  Pitcairn XT GL      1920 x 1080  ...  62 GTexel/s            0.0\n",
              "9           RV100              NaN  ...          NaN            NaN\n",
              "\n",
              "[10 rows x 34 columns]"
            ]
          },
          "metadata": {},
          "execution_count": 6
        }
      ]
    },
    {
      "cell_type": "code",
      "metadata": {
        "colab": {
          "base_uri": "https://localhost:8080/"
        },
        "id": "4-0_wEqTumhC",
        "outputId": "427325d5-d21f-454b-f8d5-0dc1f3c1af5b"
      },
      "source": [
        "dataset.isna().sum()"
      ],
      "execution_count": null,
      "outputs": [
        {
          "output_type": "execute_result",
          "data": {
            "text/plain": [
              "Architecture                62\n",
              "Best_Resolution            642\n",
              "Boost_Clock               1960\n",
              "Core_Speed                   0\n",
              "DVI_Connection             750\n",
              "Dedicated                   14\n",
              "Direct_X                     6\n",
              "DisplayPort_Connection    2549\n",
              "HDMI_Connection            763\n",
              "Integrated                  14\n",
              "L2_Cache                     0\n",
              "Manufacturer                 0\n",
              "Max_Power                  625\n",
              "Memory                     420\n",
              "Memory_Bandwidth           121\n",
              "Memory_Bus                  62\n",
              "Memory_Speed               105\n",
              "Memory_Type                 56\n",
              "Name                         0\n",
              "Notebook_GPU                 0\n",
              "Open_GL                     40\n",
              "PSU                       1175\n",
              "Pixel_Rate                 544\n",
              "Power_Connector            709\n",
              "Process                    463\n",
              "ROPs                       538\n",
              "Release_Date                 0\n",
              "Release_Price             2850\n",
              "Resolution_WxH             195\n",
              "SLI_Crossfire                0\n",
              "Shader                     107\n",
              "TMUs                       538\n",
              "Texture_Rate               544\n",
              "VGA_Connection             758\n",
              "dtype: int64"
            ]
          },
          "metadata": {},
          "execution_count": 7
        }
      ]
    },
    {
      "cell_type": "markdown",
      "metadata": {
        "id": "6hpew1tV5BiV"
      },
      "source": [
        "# Data preprocessing"
      ]
    },
    {
      "cell_type": "markdown",
      "metadata": {
        "id": "Qz2rw5rV44BR"
      },
      "source": [
        "**Boost_Clock**\n"
      ]
    },
    {
      "cell_type": "code",
      "metadata": {
        "id": "4D1RI-OlvzPw"
      },
      "source": [
        "df = pd.DataFrame();\n",
        "df[['Boost_Clock','Boost_Clock_Unit','Space']] = dataset[\"Boost_Clock\"].str.split(\" \",expand = True)"
      ],
      "execution_count": null,
      "outputs": []
    },
    {
      "cell_type": "code",
      "metadata": {
        "colab": {
          "base_uri": "https://localhost:8080/"
        },
        "id": "DmBgpyZf--ox",
        "outputId": "5cfb55f8-3865-478f-dc56-75faeb83e1d8"
      },
      "source": [
        "df.groupby('Boost_Clock').size()"
      ],
      "execution_count": null,
      "outputs": [
        {
          "output_type": "execute_result",
          "data": {
            "text/plain": [
              "Boost_Clock\n",
              "1000    31\n",
              "1006     9\n",
              "1015     4\n",
              "1019     5\n",
              "1020     7\n",
              "        ..\n",
              "967      2\n",
              "975      9\n",
              "980     22\n",
              "985      1\n",
              "993     10\n",
              "Length: 223, dtype: int64"
            ]
          },
          "metadata": {},
          "execution_count": 9
        }
      ]
    },
    {
      "cell_type": "code",
      "metadata": {
        "colab": {
          "base_uri": "https://localhost:8080/",
          "height": 359
        },
        "id": "0bUWWlZ48jdT",
        "outputId": "f112fb2b-1a39-4809-de70-30fafacdc7d1"
      },
      "source": [
        "df.head(10)"
      ],
      "execution_count": null,
      "outputs": [
        {
          "output_type": "execute_result",
          "data": {
            "text/html": [
              "<div>\n",
              "<style scoped>\n",
              "    .dataframe tbody tr th:only-of-type {\n",
              "        vertical-align: middle;\n",
              "    }\n",
              "\n",
              "    .dataframe tbody tr th {\n",
              "        vertical-align: top;\n",
              "    }\n",
              "\n",
              "    .dataframe thead th {\n",
              "        text-align: right;\n",
              "    }\n",
              "</style>\n",
              "<table border=\"1\" class=\"dataframe\">\n",
              "  <thead>\n",
              "    <tr style=\"text-align: right;\">\n",
              "      <th></th>\n",
              "      <th>Boost_Clock</th>\n",
              "      <th>Boost_Clock_Unit</th>\n",
              "      <th>Space</th>\n",
              "    </tr>\n",
              "  </thead>\n",
              "  <tbody>\n",
              "    <tr>\n",
              "      <th>0</th>\n",
              "      <td>NaN</td>\n",
              "      <td>NaN</td>\n",
              "      <td>NaN</td>\n",
              "    </tr>\n",
              "    <tr>\n",
              "      <th>1</th>\n",
              "      <td>NaN</td>\n",
              "      <td>NaN</td>\n",
              "      <td>NaN</td>\n",
              "    </tr>\n",
              "    <tr>\n",
              "      <th>2</th>\n",
              "      <td>NaN</td>\n",
              "      <td>NaN</td>\n",
              "      <td>NaN</td>\n",
              "    </tr>\n",
              "    <tr>\n",
              "      <th>3</th>\n",
              "      <td>NaN</td>\n",
              "      <td>NaN</td>\n",
              "      <td>NaN</td>\n",
              "    </tr>\n",
              "    <tr>\n",
              "      <th>4</th>\n",
              "      <td>NaN</td>\n",
              "      <td>NaN</td>\n",
              "      <td>NaN</td>\n",
              "    </tr>\n",
              "    <tr>\n",
              "      <th>5</th>\n",
              "      <td>NaN</td>\n",
              "      <td>NaN</td>\n",
              "      <td>NaN</td>\n",
              "    </tr>\n",
              "    <tr>\n",
              "      <th>6</th>\n",
              "      <td>NaN</td>\n",
              "      <td>NaN</td>\n",
              "      <td>NaN</td>\n",
              "    </tr>\n",
              "    <tr>\n",
              "      <th>7</th>\n",
              "      <td>NaN</td>\n",
              "      <td>NaN</td>\n",
              "      <td>NaN</td>\n",
              "    </tr>\n",
              "    <tr>\n",
              "      <th>8</th>\n",
              "      <td>NaN</td>\n",
              "      <td>NaN</td>\n",
              "      <td>NaN</td>\n",
              "    </tr>\n",
              "    <tr>\n",
              "      <th>9</th>\n",
              "      <td>NaN</td>\n",
              "      <td>NaN</td>\n",
              "      <td>NaN</td>\n",
              "    </tr>\n",
              "  </tbody>\n",
              "</table>\n",
              "</div>"
            ],
            "text/plain": [
              "  Boost_Clock Boost_Clock_Unit Space\n",
              "0         NaN              NaN   NaN\n",
              "1         NaN              NaN   NaN\n",
              "2         NaN              NaN   NaN\n",
              "3         NaN              NaN   NaN\n",
              "4         NaN              NaN   NaN\n",
              "5         NaN              NaN   NaN\n",
              "6         NaN              NaN   NaN\n",
              "7         NaN              NaN   NaN\n",
              "8         NaN              NaN   NaN\n",
              "9         NaN              NaN   NaN"
            ]
          },
          "metadata": {},
          "execution_count": 10
        }
      ]
    },
    {
      "cell_type": "code",
      "metadata": {
        "id": "A72wLIxB28mN"
      },
      "source": [
        "dataset['Boost_Clock']=df['Boost_Clock']\n",
        "dataset['Boost_Clock'] = dataset['Boost_Clock'].astype('float')\n",
        "dataset.insert(3, 'Boost_Clock_Unit', df['Boost_Clock_Unit'])"
      ],
      "execution_count": null,
      "outputs": []
    },
    {
      "cell_type": "code",
      "metadata": {
        "colab": {
          "base_uri": "https://localhost:8080/"
        },
        "id": "fPTCorh_wbyT",
        "outputId": "b9d5aaee-386f-4e13-f405-77dc9227be58"
      },
      "source": [
        "dataset.groupby('Boost_Clock').size()"
      ],
      "execution_count": null,
      "outputs": [
        {
          "output_type": "execute_result",
          "data": {
            "text/plain": [
              "Boost_Clock\n",
              "400.0     2\n",
              "500.0     1\n",
              "533.0     1\n",
              "554.0     1\n",
              "600.0     1\n",
              "         ..\n",
              "1865.0    1\n",
              "1873.0    3\n",
              "1898.0    1\n",
              "1911.0    1\n",
              "1936.0    1\n",
              "Length: 223, dtype: int64"
            ]
          },
          "metadata": {},
          "execution_count": 12
        }
      ]
    },
    {
      "cell_type": "code",
      "metadata": {
        "colab": {
          "base_uri": "https://localhost:8080/"
        },
        "id": "1lzqgexqwgA_",
        "outputId": "a99f9f04-39ca-4f3c-a85e-9a071e304b9c"
      },
      "source": [
        "dataset.info()"
      ],
      "execution_count": null,
      "outputs": [
        {
          "output_type": "stream",
          "name": "stdout",
          "text": [
            "<class 'pandas.core.frame.DataFrame'>\n",
            "RangeIndex: 3406 entries, 0 to 3405\n",
            "Data columns (total 35 columns):\n",
            " #   Column                  Non-Null Count  Dtype  \n",
            "---  ------                  --------------  -----  \n",
            " 0   Architecture            3344 non-null   object \n",
            " 1   Best_Resolution         2764 non-null   object \n",
            " 2   Boost_Clock             1446 non-null   float64\n",
            " 3   Boost_Clock_Unit        1446 non-null   object \n",
            " 4   Core_Speed              3406 non-null   object \n",
            " 5   DVI_Connection          2656 non-null   float64\n",
            " 6   Dedicated               3392 non-null   object \n",
            " 7   Direct_X                3400 non-null   object \n",
            " 8   DisplayPort_Connection  857 non-null    float64\n",
            " 9   HDMI_Connection         2643 non-null   float64\n",
            " 10  Integrated              3392 non-null   object \n",
            " 11  L2_Cache                3406 non-null   object \n",
            " 12  Manufacturer            3406 non-null   object \n",
            " 13  Max_Power               2781 non-null   object \n",
            " 14  Memory                  2986 non-null   object \n",
            " 15  Memory_Bandwidth        3285 non-null   object \n",
            " 16  Memory_Bus              3344 non-null   object \n",
            " 17  Memory_Speed            3301 non-null   object \n",
            " 18  Memory_Type             3350 non-null   object \n",
            " 19  Name                    3406 non-null   object \n",
            " 20  Notebook_GPU            3406 non-null   object \n",
            " 21  Open_GL                 3366 non-null   float64\n",
            " 22  PSU                     2231 non-null   object \n",
            " 23  Pixel_Rate              2862 non-null   object \n",
            " 24  Power_Connector         2697 non-null   object \n",
            " 25  Process                 2943 non-null   object \n",
            " 26  ROPs                    2868 non-null   object \n",
            " 27  Release_Date            3406 non-null   object \n",
            " 28  Release_Price           556 non-null    object \n",
            " 29  Resolution_WxH          3211 non-null   object \n",
            " 30  SLI_Crossfire           3406 non-null   object \n",
            " 31  Shader                  3299 non-null   float64\n",
            " 32  TMUs                    2868 non-null   float64\n",
            " 33  Texture_Rate            2862 non-null   object \n",
            " 34  VGA_Connection          2648 non-null   float64\n",
            "dtypes: float64(8), object(27)\n",
            "memory usage: 931.5+ KB\n"
          ]
        }
      ]
    },
    {
      "cell_type": "markdown",
      "metadata": {
        "id": "yGqn1Er27cmq"
      },
      "source": [
        "**Core_Speed**"
      ]
    },
    {
      "cell_type": "code",
      "metadata": {
        "id": "SIMjOZPS6Mev"
      },
      "source": [
        "df2 = pd.DataFrame();\n",
        "df2[['Core_Speed','Core_Speed_Unit']] = dataset[\"Core_Speed\"].str.split(\" \",expand = True)"
      ],
      "execution_count": null,
      "outputs": []
    },
    {
      "cell_type": "code",
      "metadata": {
        "colab": {
          "base_uri": "https://localhost:8080/"
        },
        "id": "U1H5uOl_-iuU",
        "outputId": "49242104-1338-4692-968d-c63a4c355787"
      },
      "source": [
        "df2.groupby('Core_Speed').size()"
      ],
      "execution_count": null,
      "outputs": [
        {
          "output_type": "execute_result",
          "data": {
            "text/plain": [
              "Core_Speed\n",
              "\\n       29\n",
              "\\n-     907\n",
              "100       3\n",
              "1000    128\n",
              "1006     54\n",
              "       ... \n",
              "980      42\n",
              "981       1\n",
              "985       6\n",
              "990       8\n",
              "993      19\n",
              "Length: 296, dtype: int64"
            ]
          },
          "metadata": {},
          "execution_count": 15
        }
      ]
    },
    {
      "cell_type": "code",
      "metadata": {
        "colab": {
          "base_uri": "https://localhost:8080/"
        },
        "id": "otjYR-kl90fZ",
        "outputId": "8c26773d-2041-484c-e729-df15d6a56ecf"
      },
      "source": [
        "df2.info()"
      ],
      "execution_count": null,
      "outputs": [
        {
          "output_type": "stream",
          "name": "stdout",
          "text": [
            "<class 'pandas.core.frame.DataFrame'>\n",
            "RangeIndex: 3406 entries, 0 to 3405\n",
            "Data columns (total 2 columns):\n",
            " #   Column           Non-Null Count  Dtype \n",
            "---  ------           --------------  ----- \n",
            " 0   Core_Speed       3406 non-null   object\n",
            " 1   Core_Speed_Unit  3377 non-null   object\n",
            "dtypes: object(2)\n",
            "memory usage: 53.3+ KB\n"
          ]
        }
      ]
    },
    {
      "cell_type": "code",
      "metadata": {
        "id": "rFclqvR282Jp"
      },
      "source": [
        "for idx, row in df2.iterrows():\n",
        "  if row.Core_Speed == '\\n-' or row.Core_Speed == '\\n':\n",
        "    df2.Core_Speed[idx] = np.nan\n",
        "    df2.Core_Speed_Unit[idx] = np.nan"
      ],
      "execution_count": null,
      "outputs": []
    },
    {
      "cell_type": "code",
      "metadata": {
        "colab": {
          "base_uri": "https://localhost:8080/"
        },
        "id": "hy_1roce-5sX",
        "outputId": "dfe4687e-982e-4286-ccb1-afa824d697d4"
      },
      "source": [
        "df2.groupby('Core_Speed').size()"
      ],
      "execution_count": null,
      "outputs": [
        {
          "output_type": "execute_result",
          "data": {
            "text/plain": [
              "Core_Speed\n",
              "100       3\n",
              "1000    128\n",
              "1006     54\n",
              "1007      1\n",
              "1008      1\n",
              "       ... \n",
              "980      42\n",
              "981       1\n",
              "985       6\n",
              "990       8\n",
              "993      19\n",
              "Length: 294, dtype: int64"
            ]
          },
          "metadata": {},
          "execution_count": 18
        }
      ]
    },
    {
      "cell_type": "code",
      "metadata": {
        "id": "4ttQjxQE8_n_"
      },
      "source": [
        "dataset['Core_Speed'] = df2['Core_Speed']\n",
        "dataset['Core_Speed'] = dataset['Core_Speed'].astype('float')\n",
        "dataset.insert(5, 'Core_Speed_Unit', df2['Core_Speed_Unit'])"
      ],
      "execution_count": null,
      "outputs": []
    },
    {
      "cell_type": "code",
      "metadata": {
        "colab": {
          "base_uri": "https://localhost:8080/"
        },
        "id": "4RutTuBO_vnB",
        "outputId": "a2d1c9ca-6789-40d8-8657-004887635d03"
      },
      "source": [
        "dataset.info()"
      ],
      "execution_count": null,
      "outputs": [
        {
          "output_type": "stream",
          "name": "stdout",
          "text": [
            "<class 'pandas.core.frame.DataFrame'>\n",
            "RangeIndex: 3406 entries, 0 to 3405\n",
            "Data columns (total 36 columns):\n",
            " #   Column                  Non-Null Count  Dtype  \n",
            "---  ------                  --------------  -----  \n",
            " 0   Architecture            3344 non-null   object \n",
            " 1   Best_Resolution         2764 non-null   object \n",
            " 2   Boost_Clock             1446 non-null   float64\n",
            " 3   Boost_Clock_Unit        1446 non-null   object \n",
            " 4   Core_Speed              2470 non-null   float64\n",
            " 5   Core_Speed_Unit         2470 non-null   object \n",
            " 6   DVI_Connection          2656 non-null   float64\n",
            " 7   Dedicated               3392 non-null   object \n",
            " 8   Direct_X                3400 non-null   object \n",
            " 9   DisplayPort_Connection  857 non-null    float64\n",
            " 10  HDMI_Connection         2643 non-null   float64\n",
            " 11  Integrated              3392 non-null   object \n",
            " 12  L2_Cache                3406 non-null   object \n",
            " 13  Manufacturer            3406 non-null   object \n",
            " 14  Max_Power               2781 non-null   object \n",
            " 15  Memory                  2986 non-null   object \n",
            " 16  Memory_Bandwidth        3285 non-null   object \n",
            " 17  Memory_Bus              3344 non-null   object \n",
            " 18  Memory_Speed            3301 non-null   object \n",
            " 19  Memory_Type             3350 non-null   object \n",
            " 20  Name                    3406 non-null   object \n",
            " 21  Notebook_GPU            3406 non-null   object \n",
            " 22  Open_GL                 3366 non-null   float64\n",
            " 23  PSU                     2231 non-null   object \n",
            " 24  Pixel_Rate              2862 non-null   object \n",
            " 25  Power_Connector         2697 non-null   object \n",
            " 26  Process                 2943 non-null   object \n",
            " 27  ROPs                    2868 non-null   object \n",
            " 28  Release_Date            3406 non-null   object \n",
            " 29  Release_Price           556 non-null    object \n",
            " 30  Resolution_WxH          3211 non-null   object \n",
            " 31  SLI_Crossfire           3406 non-null   object \n",
            " 32  Shader                  3299 non-null   float64\n",
            " 33  TMUs                    2868 non-null   float64\n",
            " 34  Texture_Rate            2862 non-null   object \n",
            " 35  VGA_Connection          2648 non-null   float64\n",
            "dtypes: float64(9), object(27)\n",
            "memory usage: 958.1+ KB\n"
          ]
        }
      ]
    },
    {
      "cell_type": "markdown",
      "metadata": {
        "id": "-ruFeDoBAJ6D"
      },
      "source": [
        "**Max_Power**"
      ]
    },
    {
      "cell_type": "code",
      "metadata": {
        "colab": {
          "base_uri": "https://localhost:8080/"
        },
        "id": "MWYKs-RgALcu",
        "outputId": "7959b75e-b4a2-4143-8aa9-c55d34fb4bc8"
      },
      "source": [
        "df3 = pd.DataFrame();\n",
        "df3[['Max_Power','Max_Power_Unit']] = dataset[\"Max_Power\"].str.split(\" \",expand = True)\n",
        "df3.groupby('Max_Power').size()"
      ],
      "execution_count": null,
      "outputs": [
        {
          "output_type": "execute_result",
          "data": {
            "text/plain": [
              "Max_Power\n",
              "1       1\n",
              "10     15\n",
              "100    47\n",
              "101     1\n",
              "105    26\n",
              "       ..\n",
              "90     13\n",
              "91      3\n",
              "94      1\n",
              "95     23\n",
              "96      4\n",
              "Length: 192, dtype: int64"
            ]
          },
          "metadata": {},
          "execution_count": 21
        }
      ]
    },
    {
      "cell_type": "code",
      "metadata": {
        "id": "MPQOtt3_C_8Z"
      },
      "source": [
        "dataset['Max_Power'] = df3['Max_Power']\n",
        "dataset['Max_Power'] = dataset['Max_Power'].astype('float')\n",
        "dataset.insert(15, 'Max_Power_Unit', df3['Max_Power_Unit'])"
      ],
      "execution_count": null,
      "outputs": []
    },
    {
      "cell_type": "code",
      "metadata": {
        "colab": {
          "base_uri": "https://localhost:8080/"
        },
        "id": "3HflicDDDlv6",
        "outputId": "6a76e5ef-b192-4562-8cb5-b7c2f69b0b00"
      },
      "source": [
        "dataset.info()"
      ],
      "execution_count": null,
      "outputs": [
        {
          "output_type": "stream",
          "name": "stdout",
          "text": [
            "<class 'pandas.core.frame.DataFrame'>\n",
            "RangeIndex: 3406 entries, 0 to 3405\n",
            "Data columns (total 37 columns):\n",
            " #   Column                  Non-Null Count  Dtype  \n",
            "---  ------                  --------------  -----  \n",
            " 0   Architecture            3344 non-null   object \n",
            " 1   Best_Resolution         2764 non-null   object \n",
            " 2   Boost_Clock             1446 non-null   float64\n",
            " 3   Boost_Clock_Unit        1446 non-null   object \n",
            " 4   Core_Speed              2470 non-null   float64\n",
            " 5   Core_Speed_Unit         2470 non-null   object \n",
            " 6   DVI_Connection          2656 non-null   float64\n",
            " 7   Dedicated               3392 non-null   object \n",
            " 8   Direct_X                3400 non-null   object \n",
            " 9   DisplayPort_Connection  857 non-null    float64\n",
            " 10  HDMI_Connection         2643 non-null   float64\n",
            " 11  Integrated              3392 non-null   object \n",
            " 12  L2_Cache                3406 non-null   object \n",
            " 13  Manufacturer            3406 non-null   object \n",
            " 14  Max_Power               2781 non-null   float64\n",
            " 15  Max_Power_Unit          2781 non-null   object \n",
            " 16  Memory                  2986 non-null   object \n",
            " 17  Memory_Bandwidth        3285 non-null   object \n",
            " 18  Memory_Bus              3344 non-null   object \n",
            " 19  Memory_Speed            3301 non-null   object \n",
            " 20  Memory_Type             3350 non-null   object \n",
            " 21  Name                    3406 non-null   object \n",
            " 22  Notebook_GPU            3406 non-null   object \n",
            " 23  Open_GL                 3366 non-null   float64\n",
            " 24  PSU                     2231 non-null   object \n",
            " 25  Pixel_Rate              2862 non-null   object \n",
            " 26  Power_Connector         2697 non-null   object \n",
            " 27  Process                 2943 non-null   object \n",
            " 28  ROPs                    2868 non-null   object \n",
            " 29  Release_Date            3406 non-null   object \n",
            " 30  Release_Price           556 non-null    object \n",
            " 31  Resolution_WxH          3211 non-null   object \n",
            " 32  SLI_Crossfire           3406 non-null   object \n",
            " 33  Shader                  3299 non-null   float64\n",
            " 34  TMUs                    2868 non-null   float64\n",
            " 35  Texture_Rate            2862 non-null   object \n",
            " 36  VGA_Connection          2648 non-null   float64\n",
            "dtypes: float64(10), object(27)\n",
            "memory usage: 984.7+ KB\n"
          ]
        }
      ]
    },
    {
      "cell_type": "markdown",
      "metadata": {
        "id": "STVobMA1DPhf"
      },
      "source": [
        "**Memory**"
      ]
    },
    {
      "cell_type": "code",
      "metadata": {
        "colab": {
          "base_uri": "https://localhost:8080/"
        },
        "id": "__FNSoOCDSXk",
        "outputId": "b6d8e309-d80e-4ff1-b620-b7e9a693abbc"
      },
      "source": [
        "df4 = pd.DataFrame();\n",
        "df4[['Memory','Memory_Unit','Space']] = dataset[\"Memory\"].str.split(\" \",expand = True)\n",
        "df4.groupby('Memory').size()"
      ],
      "execution_count": null,
      "outputs": [
        {
          "output_type": "execute_result",
          "data": {
            "text/plain": [
              "Memory\n",
              "1024     629\n",
              "11264     47\n",
              "12288     25\n",
              "128       69\n",
              "1280      18\n",
              "1536      31\n",
              "16         3\n",
              "16384     12\n",
              "1720       1\n",
              "1792       6\n",
              "2048     801\n",
              "24576      2\n",
              "256      141\n",
              "2560       4\n",
              "3072     176\n",
              "32        12\n",
              "320        2\n",
              "32000      1\n",
              "384        2\n",
              "4096     460\n",
              "512      162\n",
              "5120       1\n",
              "6144     119\n",
              "64        27\n",
              "640        2\n",
              "768        8\n",
              "8192     216\n",
              "896        8\n",
              "9216       1\n",
              "dtype: int64"
            ]
          },
          "metadata": {},
          "execution_count": 24
        }
      ]
    },
    {
      "cell_type": "code",
      "metadata": {
        "id": "1LxWR7PWDg4V"
      },
      "source": [
        "dataset['Memory'] = df4['Memory']\n",
        "dataset['Memory'] = dataset['Memory'].astype('float')\n",
        "dataset.insert(17, 'Memory_Unit', df4['Memory_Unit'])"
      ],
      "execution_count": null,
      "outputs": []
    },
    {
      "cell_type": "code",
      "metadata": {
        "colab": {
          "base_uri": "https://localhost:8080/"
        },
        "id": "WCR-w_ylDuaF",
        "outputId": "35b47603-2160-4fe3-c494-2f39d594a91c"
      },
      "source": [
        "dataset.info()"
      ],
      "execution_count": null,
      "outputs": [
        {
          "output_type": "stream",
          "name": "stdout",
          "text": [
            "<class 'pandas.core.frame.DataFrame'>\n",
            "RangeIndex: 3406 entries, 0 to 3405\n",
            "Data columns (total 38 columns):\n",
            " #   Column                  Non-Null Count  Dtype  \n",
            "---  ------                  --------------  -----  \n",
            " 0   Architecture            3344 non-null   object \n",
            " 1   Best_Resolution         2764 non-null   object \n",
            " 2   Boost_Clock             1446 non-null   float64\n",
            " 3   Boost_Clock_Unit        1446 non-null   object \n",
            " 4   Core_Speed              2470 non-null   float64\n",
            " 5   Core_Speed_Unit         2470 non-null   object \n",
            " 6   DVI_Connection          2656 non-null   float64\n",
            " 7   Dedicated               3392 non-null   object \n",
            " 8   Direct_X                3400 non-null   object \n",
            " 9   DisplayPort_Connection  857 non-null    float64\n",
            " 10  HDMI_Connection         2643 non-null   float64\n",
            " 11  Integrated              3392 non-null   object \n",
            " 12  L2_Cache                3406 non-null   object \n",
            " 13  Manufacturer            3406 non-null   object \n",
            " 14  Max_Power               2781 non-null   float64\n",
            " 15  Max_Power_Unit          2781 non-null   object \n",
            " 16  Memory                  2986 non-null   float64\n",
            " 17  Memory_Unit             2986 non-null   object \n",
            " 18  Memory_Bandwidth        3285 non-null   object \n",
            " 19  Memory_Bus              3344 non-null   object \n",
            " 20  Memory_Speed            3301 non-null   object \n",
            " 21  Memory_Type             3350 non-null   object \n",
            " 22  Name                    3406 non-null   object \n",
            " 23  Notebook_GPU            3406 non-null   object \n",
            " 24  Open_GL                 3366 non-null   float64\n",
            " 25  PSU                     2231 non-null   object \n",
            " 26  Pixel_Rate              2862 non-null   object \n",
            " 27  Power_Connector         2697 non-null   object \n",
            " 28  Process                 2943 non-null   object \n",
            " 29  ROPs                    2868 non-null   object \n",
            " 30  Release_Date            3406 non-null   object \n",
            " 31  Release_Price           556 non-null    object \n",
            " 32  Resolution_WxH          3211 non-null   object \n",
            " 33  SLI_Crossfire           3406 non-null   object \n",
            " 34  Shader                  3299 non-null   float64\n",
            " 35  TMUs                    2868 non-null   float64\n",
            " 36  Texture_Rate            2862 non-null   object \n",
            " 37  VGA_Connection          2648 non-null   float64\n",
            "dtypes: float64(11), object(27)\n",
            "memory usage: 1011.3+ KB\n"
          ]
        }
      ]
    },
    {
      "cell_type": "markdown",
      "metadata": {
        "id": "r3MbEq7aEZ1B"
      },
      "source": [
        "**Memory_Bus**"
      ]
    },
    {
      "cell_type": "code",
      "metadata": {
        "colab": {
          "base_uri": "https://localhost:8080/"
        },
        "id": "zScIg7yrEebd",
        "outputId": "c98f0566-b078-4622-da2f-54f9bf0e6a20"
      },
      "source": [
        "df5 = pd.DataFrame();\n",
        "df5[['Memory_Bus','Memory_Bus_Unit','Space']] = dataset[\"Memory_Bus\"].str.split(\" \",expand = True)\n",
        "df5.groupby('Memory_Bus').size()"
      ],
      "execution_count": null,
      "outputs": [
        {
          "output_type": "execute_result",
          "data": {
            "text/plain": [
              "Memory_Bus\n",
              "128     1380\n",
              "176        4\n",
              "192      193\n",
              "256      917\n",
              "3072       1\n",
              "32        13\n",
              "320       24\n",
              "352       14\n",
              "384      256\n",
              "4096       7\n",
              "448       14\n",
              "512       98\n",
              "64       389\n",
              "768        3\n",
              "8192       1\n",
              "88        29\n",
              "96         1\n",
              "dtype: int64"
            ]
          },
          "metadata": {},
          "execution_count": 27
        }
      ]
    },
    {
      "cell_type": "code",
      "metadata": {
        "id": "03lLo_SyEntJ"
      },
      "source": [
        "dataset['Memory_Bus'] = df5['Memory_Bus']\n",
        "dataset['Memory_Bus'] = dataset['Memory_Bus'].astype('float')\n",
        "dataset.insert(20, 'Memory_Bus_Unit', df5['Memory_Bus_Unit'])"
      ],
      "execution_count": null,
      "outputs": []
    },
    {
      "cell_type": "code",
      "metadata": {
        "colab": {
          "base_uri": "https://localhost:8080/"
        },
        "id": "ZeMpYaJlE19G",
        "outputId": "b61b13cd-95ed-407e-eb3c-ddf1c292435d"
      },
      "source": [
        "dataset.info()"
      ],
      "execution_count": null,
      "outputs": [
        {
          "output_type": "stream",
          "name": "stdout",
          "text": [
            "<class 'pandas.core.frame.DataFrame'>\n",
            "RangeIndex: 3406 entries, 0 to 3405\n",
            "Data columns (total 39 columns):\n",
            " #   Column                  Non-Null Count  Dtype  \n",
            "---  ------                  --------------  -----  \n",
            " 0   Architecture            3344 non-null   object \n",
            " 1   Best_Resolution         2764 non-null   object \n",
            " 2   Boost_Clock             1446 non-null   float64\n",
            " 3   Boost_Clock_Unit        1446 non-null   object \n",
            " 4   Core_Speed              2470 non-null   float64\n",
            " 5   Core_Speed_Unit         2470 non-null   object \n",
            " 6   DVI_Connection          2656 non-null   float64\n",
            " 7   Dedicated               3392 non-null   object \n",
            " 8   Direct_X                3400 non-null   object \n",
            " 9   DisplayPort_Connection  857 non-null    float64\n",
            " 10  HDMI_Connection         2643 non-null   float64\n",
            " 11  Integrated              3392 non-null   object \n",
            " 12  L2_Cache                3406 non-null   object \n",
            " 13  Manufacturer            3406 non-null   object \n",
            " 14  Max_Power               2781 non-null   float64\n",
            " 15  Max_Power_Unit          2781 non-null   object \n",
            " 16  Memory                  2986 non-null   float64\n",
            " 17  Memory_Unit             2986 non-null   object \n",
            " 18  Memory_Bandwidth        3285 non-null   object \n",
            " 19  Memory_Bus              3344 non-null   float64\n",
            " 20  Memory_Bus_Unit         3344 non-null   object \n",
            " 21  Memory_Speed            3301 non-null   object \n",
            " 22  Memory_Type             3350 non-null   object \n",
            " 23  Name                    3406 non-null   object \n",
            " 24  Notebook_GPU            3406 non-null   object \n",
            " 25  Open_GL                 3366 non-null   float64\n",
            " 26  PSU                     2231 non-null   object \n",
            " 27  Pixel_Rate              2862 non-null   object \n",
            " 28  Power_Connector         2697 non-null   object \n",
            " 29  Process                 2943 non-null   object \n",
            " 30  ROPs                    2868 non-null   object \n",
            " 31  Release_Date            3406 non-null   object \n",
            " 32  Release_Price           556 non-null    object \n",
            " 33  Resolution_WxH          3211 non-null   object \n",
            " 34  SLI_Crossfire           3406 non-null   object \n",
            " 35  Shader                  3299 non-null   float64\n",
            " 36  TMUs                    2868 non-null   float64\n",
            " 37  Texture_Rate            2862 non-null   object \n",
            " 38  VGA_Connection          2648 non-null   float64\n",
            "dtypes: float64(12), object(27)\n",
            "memory usage: 1.0+ MB\n"
          ]
        }
      ]
    },
    {
      "cell_type": "markdown",
      "metadata": {
        "id": "IS9e-aDIE9Gw"
      },
      "source": [
        "**Memory_Speed**"
      ]
    },
    {
      "cell_type": "code",
      "metadata": {
        "colab": {
          "base_uri": "https://localhost:8080/"
        },
        "id": "_ZEi3WHcFQ5-",
        "outputId": "faefdcb6-6189-4c85-dc6a-9dbae52fa2f4"
      },
      "source": [
        "df6 = pd.DataFrame();\n",
        "df6[['Memory_Speed','Memory_Speed_Unit']] = dataset[\"Memory_Speed\"].str.split(\" \",expand = True)\n",
        "df6.groupby('Memory_Speed').size()"
      ],
      "execution_count": null,
      "outputs": [
        {
          "output_type": "execute_result",
          "data": {
            "text/plain": [
              "Memory_Speed\n",
              "100       1\n",
              "1000    130\n",
              "1001      6\n",
              "1002     30\n",
              "1004      1\n",
              "       ... \n",
              "975       7\n",
              "980       4\n",
              "990       1\n",
              "993       4\n",
              "999       6\n",
              "Length: 192, dtype: int64"
            ]
          },
          "metadata": {},
          "execution_count": 30
        }
      ]
    },
    {
      "cell_type": "code",
      "metadata": {
        "id": "I6ZNdxqCFcMX"
      },
      "source": [
        "dataset['Memory_Speed'] = df6['Memory_Speed']\n",
        "dataset['Memory_Speed'] = dataset['Memory_Speed'].astype('float')\n",
        "dataset.insert(22, 'Memory_Speed_Unit', df6['Memory_Speed_Unit'])"
      ],
      "execution_count": null,
      "outputs": []
    },
    {
      "cell_type": "code",
      "metadata": {
        "colab": {
          "base_uri": "https://localhost:8080/"
        },
        "id": "bdIPiL0yl1dN",
        "outputId": "9e2a0953-6b2f-494d-e395-3b543b3750f6"
      },
      "source": [
        "dataset.info()"
      ],
      "execution_count": null,
      "outputs": [
        {
          "output_type": "stream",
          "name": "stdout",
          "text": [
            "<class 'pandas.core.frame.DataFrame'>\n",
            "RangeIndex: 3406 entries, 0 to 3405\n",
            "Data columns (total 40 columns):\n",
            " #   Column                  Non-Null Count  Dtype  \n",
            "---  ------                  --------------  -----  \n",
            " 0   Architecture            3344 non-null   object \n",
            " 1   Best_Resolution         2764 non-null   object \n",
            " 2   Boost_Clock             1446 non-null   float64\n",
            " 3   Boost_Clock_Unit        1446 non-null   object \n",
            " 4   Core_Speed              2470 non-null   float64\n",
            " 5   Core_Speed_Unit         2470 non-null   object \n",
            " 6   DVI_Connection          2656 non-null   float64\n",
            " 7   Dedicated               3392 non-null   object \n",
            " 8   Direct_X                3400 non-null   object \n",
            " 9   DisplayPort_Connection  857 non-null    float64\n",
            " 10  HDMI_Connection         2643 non-null   float64\n",
            " 11  Integrated              3392 non-null   object \n",
            " 12  L2_Cache                3406 non-null   object \n",
            " 13  Manufacturer            3406 non-null   object \n",
            " 14  Max_Power               2781 non-null   float64\n",
            " 15  Max_Power_Unit          2781 non-null   object \n",
            " 16  Memory                  2986 non-null   float64\n",
            " 17  Memory_Unit             2986 non-null   object \n",
            " 18  Memory_Bandwidth        3285 non-null   object \n",
            " 19  Memory_Bus              3344 non-null   float64\n",
            " 20  Memory_Bus_Unit         3344 non-null   object \n",
            " 21  Memory_Speed            3301 non-null   float64\n",
            " 22  Memory_Speed_Unit       3301 non-null   object \n",
            " 23  Memory_Type             3350 non-null   object \n",
            " 24  Name                    3406 non-null   object \n",
            " 25  Notebook_GPU            3406 non-null   object \n",
            " 26  Open_GL                 3366 non-null   float64\n",
            " 27  PSU                     2231 non-null   object \n",
            " 28  Pixel_Rate              2862 non-null   object \n",
            " 29  Power_Connector         2697 non-null   object \n",
            " 30  Process                 2943 non-null   object \n",
            " 31  ROPs                    2868 non-null   object \n",
            " 32  Release_Date            3406 non-null   object \n",
            " 33  Release_Price           556 non-null    object \n",
            " 34  Resolution_WxH          3211 non-null   object \n",
            " 35  SLI_Crossfire           3406 non-null   object \n",
            " 36  Shader                  3299 non-null   float64\n",
            " 37  TMUs                    2868 non-null   float64\n",
            " 38  Texture_Rate            2862 non-null   object \n",
            " 39  VGA_Connection          2648 non-null   float64\n",
            "dtypes: float64(13), object(27)\n",
            "memory usage: 1.0+ MB\n"
          ]
        }
      ]
    },
    {
      "cell_type": "markdown",
      "metadata": {
        "id": "q95x13AdGEpr"
      },
      "source": [
        "**Release_Date**"
      ]
    },
    {
      "cell_type": "code",
      "metadata": {
        "id": "49A60QwTGJYI"
      },
      "source": [
        "df7 = pd.DataFrame();\n",
        "df7[['Release_Date','1','2','3']] = dataset[\"Release_Date\"].str.split(\" \",expand = True)"
      ],
      "execution_count": null,
      "outputs": []
    },
    {
      "cell_type": "code",
      "metadata": {
        "id": "WUMwkgy8G-VA"
      },
      "source": [
        "for idx, row in df7.iterrows():\n",
        "  if row.Release_Date != '\\n':\n",
        "     df7.Release_Date[idx] = df7.Release_Date[idx].replace(\"\\n\", \"\")"
      ],
      "execution_count": null,
      "outputs": []
    },
    {
      "cell_type": "code",
      "metadata": {
        "id": "1YDVDhh0H7BZ"
      },
      "source": [
        "dataset['Release_Date'] = df7['Release_Date']"
      ],
      "execution_count": null,
      "outputs": []
    },
    {
      "cell_type": "code",
      "metadata": {
        "colab": {
          "base_uri": "https://localhost:8080/"
        },
        "id": "jSQJURM1JN2l",
        "outputId": "a0d6444b-a76f-4e70-b95c-2ed1e420f351"
      },
      "source": [
        "dataset.info()"
      ],
      "execution_count": null,
      "outputs": [
        {
          "output_type": "stream",
          "name": "stdout",
          "text": [
            "<class 'pandas.core.frame.DataFrame'>\n",
            "RangeIndex: 3406 entries, 0 to 3405\n",
            "Data columns (total 40 columns):\n",
            " #   Column                  Non-Null Count  Dtype  \n",
            "---  ------                  --------------  -----  \n",
            " 0   Architecture            3344 non-null   object \n",
            " 1   Best_Resolution         2764 non-null   object \n",
            " 2   Boost_Clock             1446 non-null   float64\n",
            " 3   Boost_Clock_Unit        1446 non-null   object \n",
            " 4   Core_Speed              2470 non-null   float64\n",
            " 5   Core_Speed_Unit         2470 non-null   object \n",
            " 6   DVI_Connection          2656 non-null   float64\n",
            " 7   Dedicated               3392 non-null   object \n",
            " 8   Direct_X                3400 non-null   object \n",
            " 9   DisplayPort_Connection  857 non-null    float64\n",
            " 10  HDMI_Connection         2643 non-null   float64\n",
            " 11  Integrated              3392 non-null   object \n",
            " 12  L2_Cache                3406 non-null   object \n",
            " 13  Manufacturer            3406 non-null   object \n",
            " 14  Max_Power               2781 non-null   float64\n",
            " 15  Max_Power_Unit          2781 non-null   object \n",
            " 16  Memory                  2986 non-null   float64\n",
            " 17  Memory_Unit             2986 non-null   object \n",
            " 18  Memory_Bandwidth        3285 non-null   object \n",
            " 19  Memory_Bus              3344 non-null   float64\n",
            " 20  Memory_Bus_Unit         3344 non-null   object \n",
            " 21  Memory_Speed            3301 non-null   float64\n",
            " 22  Memory_Speed_Unit       3301 non-null   object \n",
            " 23  Memory_Type             3350 non-null   object \n",
            " 24  Name                    3406 non-null   object \n",
            " 25  Notebook_GPU            3406 non-null   object \n",
            " 26  Open_GL                 3366 non-null   float64\n",
            " 27  PSU                     2231 non-null   object \n",
            " 28  Pixel_Rate              2862 non-null   object \n",
            " 29  Power_Connector         2697 non-null   object \n",
            " 30  Process                 2943 non-null   object \n",
            " 31  ROPs                    2868 non-null   object \n",
            " 32  Release_Date            3406 non-null   object \n",
            " 33  Release_Price           556 non-null    object \n",
            " 34  Resolution_WxH          3211 non-null   object \n",
            " 35  SLI_Crossfire           3406 non-null   object \n",
            " 36  Shader                  3299 non-null   float64\n",
            " 37  TMUs                    2868 non-null   float64\n",
            " 38  Texture_Rate            2862 non-null   object \n",
            " 39  VGA_Connection          2648 non-null   float64\n",
            "dtypes: float64(13), object(27)\n",
            "memory usage: 1.0+ MB\n"
          ]
        }
      ]
    },
    {
      "cell_type": "markdown",
      "metadata": {
        "id": "sBToLV8UJci4"
      },
      "source": [
        "**Texture_Rate**"
      ]
    },
    {
      "cell_type": "code",
      "metadata": {
        "id": "PxD8vIRgJlt8"
      },
      "source": [
        "df8 = pd.DataFrame();\n",
        "df8[['Texture_Rate','Texture_Rate_Unit']] = dataset[\"Texture_Rate\"].str.split(\" \",expand = True)"
      ],
      "execution_count": null,
      "outputs": []
    },
    {
      "cell_type": "code",
      "metadata": {
        "id": "DMONYNBMJxTP"
      },
      "source": [
        "dataset['Texture_Rate'] = df8['Texture_Rate']\n",
        "dataset['Texture_Rate'] = dataset['Memory_Speed'].astype('float')\n",
        "dataset.insert(39, 'Texture_Rate_Unit', df8['Texture_Rate_Unit'])"
      ],
      "execution_count": null,
      "outputs": []
    },
    {
      "cell_type": "markdown",
      "metadata": {
        "id": "gGZPKLDWmghQ"
      },
      "source": [
        "**Release_Price**"
      ]
    },
    {
      "cell_type": "code",
      "metadata": {
        "id": "32-AvslKmkmW"
      },
      "source": [
        "df9 = pd.DataFrame();\n",
        "df9[['Release_Price']] = dataset[\"Release_Price\"].str.extract('(\\d+)')"
      ],
      "execution_count": null,
      "outputs": []
    },
    {
      "cell_type": "code",
      "metadata": {
        "id": "6xM_O6b4nOcY"
      },
      "source": [
        "dataset['Release_Price'] = df9['Release_Price']\n",
        "dataset['Release_Price'] = dataset['Release_Price'].astype('float')"
      ],
      "execution_count": null,
      "outputs": []
    },
    {
      "cell_type": "code",
      "metadata": {
        "colab": {
          "base_uri": "https://localhost:8080/"
        },
        "id": "pCLTEDPRnkCw",
        "outputId": "8759d24b-ad87-47c5-c96d-680b05548fca"
      },
      "source": [
        "dataset.info()"
      ],
      "execution_count": null,
      "outputs": [
        {
          "output_type": "stream",
          "name": "stdout",
          "text": [
            "<class 'pandas.core.frame.DataFrame'>\n",
            "RangeIndex: 3406 entries, 0 to 3405\n",
            "Data columns (total 41 columns):\n",
            " #   Column                  Non-Null Count  Dtype  \n",
            "---  ------                  --------------  -----  \n",
            " 0   Architecture            3344 non-null   object \n",
            " 1   Best_Resolution         2764 non-null   object \n",
            " 2   Boost_Clock             1446 non-null   float64\n",
            " 3   Boost_Clock_Unit        1446 non-null   object \n",
            " 4   Core_Speed              2470 non-null   float64\n",
            " 5   Core_Speed_Unit         2470 non-null   object \n",
            " 6   DVI_Connection          2656 non-null   float64\n",
            " 7   Dedicated               3392 non-null   object \n",
            " 8   Direct_X                3400 non-null   object \n",
            " 9   DisplayPort_Connection  857 non-null    float64\n",
            " 10  HDMI_Connection         2643 non-null   float64\n",
            " 11  Integrated              3392 non-null   object \n",
            " 12  L2_Cache                3406 non-null   object \n",
            " 13  Manufacturer            3406 non-null   object \n",
            " 14  Max_Power               2781 non-null   float64\n",
            " 15  Max_Power_Unit          2781 non-null   object \n",
            " 16  Memory                  2986 non-null   float64\n",
            " 17  Memory_Unit             2986 non-null   object \n",
            " 18  Memory_Bandwidth        3285 non-null   object \n",
            " 19  Memory_Bus              3344 non-null   float64\n",
            " 20  Memory_Bus_Unit         3344 non-null   object \n",
            " 21  Memory_Speed            3301 non-null   float64\n",
            " 22  Memory_Speed_Unit       3301 non-null   object \n",
            " 23  Memory_Type             3350 non-null   object \n",
            " 24  Name                    3406 non-null   object \n",
            " 25  Notebook_GPU            3406 non-null   object \n",
            " 26  Open_GL                 3366 non-null   float64\n",
            " 27  PSU                     2231 non-null   object \n",
            " 28  Pixel_Rate              2862 non-null   object \n",
            " 29  Power_Connector         2697 non-null   object \n",
            " 30  Process                 2943 non-null   object \n",
            " 31  ROPs                    2868 non-null   object \n",
            " 32  Release_Date            3406 non-null   object \n",
            " 33  Release_Price           556 non-null    float64\n",
            " 34  Resolution_WxH          3211 non-null   object \n",
            " 35  SLI_Crossfire           3406 non-null   object \n",
            " 36  Shader                  3299 non-null   float64\n",
            " 37  TMUs                    2868 non-null   float64\n",
            " 38  Texture_Rate            3301 non-null   float64\n",
            " 39  Texture_Rate_Unit       2862 non-null   object \n",
            " 40  VGA_Connection          2648 non-null   float64\n",
            "dtypes: float64(15), object(26)\n",
            "memory usage: 1.1+ MB\n"
          ]
        }
      ]
    },
    {
      "cell_type": "markdown",
      "metadata": {
        "id": "XILiuee-n-of"
      },
      "source": [
        "**Release_Year**"
      ]
    },
    {
      "cell_type": "markdown",
      "metadata": {
        "id": "Q2_uUtBJwRgJ"
      },
      "source": [
        "Drop row in dataset if Release_Date == 'Unknown' or blank space."
      ]
    },
    {
      "cell_type": "code",
      "metadata": {
        "colab": {
          "base_uri": "https://localhost:8080/"
        },
        "id": "62yJ3a0VwiBG",
        "outputId": "a84caec3-3781-4824-a2fa-69572b0fd8a0"
      },
      "source": [
        "count = 0;\n",
        "for idx, row in dataset.iterrows():\n",
        "  if row.Release_Date == 'Unknown' or row.Release_Date == '\\n':\n",
        "    count = count + 1;\n",
        "print(count)"
      ],
      "execution_count": null,
      "outputs": [
        {
          "output_type": "stream",
          "name": "stdout",
          "text": [
            "41\n"
          ]
        }
      ]
    },
    {
      "cell_type": "code",
      "metadata": {
        "id": "0Fy7iM-7x05u"
      },
      "source": [
        "for idx, row in dataset.iterrows():\n",
        "  if row.Release_Date == 'Unknown' or row.Release_Date == '\\n':\n",
        "     dataset.drop(idx, inplace=True)"
      ],
      "execution_count": null,
      "outputs": []
    },
    {
      "cell_type": "code",
      "metadata": {
        "colab": {
          "base_uri": "https://localhost:8080/"
        },
        "id": "kzdhHf9kzSW6",
        "outputId": "1d9e4425-bd7a-48d4-c8b9-c7e2ea7fb6f6"
      },
      "source": [
        "dataset = dataset.reset_index(drop=True)\n",
        "dataset.info()"
      ],
      "execution_count": null,
      "outputs": [
        {
          "output_type": "stream",
          "name": "stdout",
          "text": [
            "<class 'pandas.core.frame.DataFrame'>\n",
            "RangeIndex: 3365 entries, 0 to 3364\n",
            "Data columns (total 41 columns):\n",
            " #   Column                  Non-Null Count  Dtype  \n",
            "---  ------                  --------------  -----  \n",
            " 0   Architecture            3305 non-null   object \n",
            " 1   Best_Resolution         2726 non-null   object \n",
            " 2   Boost_Clock             1412 non-null   float64\n",
            " 3   Boost_Clock_Unit        1412 non-null   object \n",
            " 4   Core_Speed              2433 non-null   float64\n",
            " 5   Core_Speed_Unit         2433 non-null   object \n",
            " 6   DVI_Connection          2615 non-null   float64\n",
            " 7   Dedicated               3351 non-null   object \n",
            " 8   Direct_X                3360 non-null   object \n",
            " 9   DisplayPort_Connection  825 non-null    float64\n",
            " 10  HDMI_Connection         2602 non-null   float64\n",
            " 11  Integrated              3351 non-null   object \n",
            " 12  L2_Cache                3365 non-null   object \n",
            " 13  Manufacturer            3365 non-null   object \n",
            " 14  Max_Power               2742 non-null   float64\n",
            " 15  Max_Power_Unit          2742 non-null   object \n",
            " 16  Memory                  2946 non-null   float64\n",
            " 17  Memory_Unit             2946 non-null   object \n",
            " 18  Memory_Bandwidth        3246 non-null   object \n",
            " 19  Memory_Bus              3305 non-null   float64\n",
            " 20  Memory_Bus_Unit         3305 non-null   object \n",
            " 21  Memory_Speed            3262 non-null   float64\n",
            " 22  Memory_Speed_Unit       3262 non-null   object \n",
            " 23  Memory_Type             3310 non-null   object \n",
            " 24  Name                    3365 non-null   object \n",
            " 25  Notebook_GPU            3365 non-null   object \n",
            " 26  Open_GL                 3325 non-null   float64\n",
            " 27  PSU                     2192 non-null   object \n",
            " 28  Pixel_Rate              2824 non-null   object \n",
            " 29  Power_Connector         2656 non-null   object \n",
            " 30  Process                 2905 non-null   object \n",
            " 31  ROPs                    2830 non-null   object \n",
            " 32  Release_Date            3365 non-null   object \n",
            " 33  Release_Price           547 non-null    float64\n",
            " 34  Resolution_WxH          3170 non-null   object \n",
            " 35  SLI_Crossfire           3365 non-null   object \n",
            " 36  Shader                  3258 non-null   float64\n",
            " 37  TMUs                    2830 non-null   float64\n",
            " 38  Texture_Rate            3262 non-null   float64\n",
            " 39  Texture_Rate_Unit       2824 non-null   object \n",
            " 40  VGA_Connection          2607 non-null   float64\n",
            "dtypes: float64(15), object(26)\n",
            "memory usage: 1.1+ MB\n"
          ]
        }
      ]
    },
    {
      "cell_type": "code",
      "metadata": {
        "id": "RseZy8OIpfTO"
      },
      "source": [
        "df_test = pd.DataFrame();\n",
        "df_test['Release_Date']= dataset['Release_Date']"
      ],
      "execution_count": null,
      "outputs": []
    },
    {
      "cell_type": "code",
      "metadata": {
        "colab": {
          "base_uri": "https://localhost:8080/",
          "height": 204
        },
        "id": "D1BqTiOOpq3a",
        "outputId": "b9c17309-53a8-4fd0-e515-d49382604adb"
      },
      "source": [
        "df_test.head(5)"
      ],
      "execution_count": null,
      "outputs": [
        {
          "output_type": "execute_result",
          "data": {
            "text/html": [
              "<div>\n",
              "<style scoped>\n",
              "    .dataframe tbody tr th:only-of-type {\n",
              "        vertical-align: middle;\n",
              "    }\n",
              "\n",
              "    .dataframe tbody tr th {\n",
              "        vertical-align: top;\n",
              "    }\n",
              "\n",
              "    .dataframe thead th {\n",
              "        text-align: right;\n",
              "    }\n",
              "</style>\n",
              "<table border=\"1\" class=\"dataframe\">\n",
              "  <thead>\n",
              "    <tr style=\"text-align: right;\">\n",
              "      <th></th>\n",
              "      <th>Release_Date</th>\n",
              "    </tr>\n",
              "  </thead>\n",
              "  <tbody>\n",
              "    <tr>\n",
              "      <th>0</th>\n",
              "      <td>01-Mar-2009</td>\n",
              "    </tr>\n",
              "    <tr>\n",
              "      <th>1</th>\n",
              "      <td>14-May-2007</td>\n",
              "    </tr>\n",
              "    <tr>\n",
              "      <th>2</th>\n",
              "      <td>07-Dec-2007</td>\n",
              "    </tr>\n",
              "    <tr>\n",
              "      <th>3</th>\n",
              "      <td>01-Jul-2007</td>\n",
              "    </tr>\n",
              "    <tr>\n",
              "      <th>4</th>\n",
              "      <td>28-Jun-2007</td>\n",
              "    </tr>\n",
              "  </tbody>\n",
              "</table>\n",
              "</div>"
            ],
            "text/plain": [
              "  Release_Date\n",
              "0  01-Mar-2009\n",
              "1  14-May-2007\n",
              "2  07-Dec-2007\n",
              "3  01-Jul-2007\n",
              "4  28-Jun-2007"
            ]
          },
          "metadata": {},
          "execution_count": 46
        }
      ]
    },
    {
      "cell_type": "code",
      "metadata": {
        "id": "gzexDFDioEWc"
      },
      "source": [
        "df_test['Release_Date'] = pd.to_datetime(df_test.Release_Date)"
      ],
      "execution_count": null,
      "outputs": []
    },
    {
      "cell_type": "code",
      "metadata": {
        "colab": {
          "base_uri": "https://localhost:8080/"
        },
        "id": "MmvlzeFutJgT",
        "outputId": "cfe6a728-44e5-4e23-cfd7-67cb343f45e4"
      },
      "source": [
        "print(df_test)"
      ],
      "execution_count": null,
      "outputs": [
        {
          "output_type": "stream",
          "name": "stdout",
          "text": [
            "     Release_Date\n",
            "0      2009-03-01\n",
            "1      2007-05-14\n",
            "2      2007-12-07\n",
            "3      2007-07-01\n",
            "4      2007-06-28\n",
            "...           ...\n",
            "3360   2006-06-01\n",
            "3361   2006-06-01\n",
            "3362   2005-10-20\n",
            "3363   2005-11-01\n",
            "3364   2004-01-02\n",
            "\n",
            "[3365 rows x 1 columns]\n"
          ]
        }
      ]
    },
    {
      "cell_type": "code",
      "metadata": {
        "id": "uEWq9cKDtVUm"
      },
      "source": [
        "df10 = pd.DataFrame();\n",
        "df10['Release_Year'] = pd.DatetimeIndex(df_test['Release_Date']).year"
      ],
      "execution_count": null,
      "outputs": []
    },
    {
      "cell_type": "code",
      "metadata": {
        "colab": {
          "base_uri": "https://localhost:8080/"
        },
        "id": "U90T4uOjtdcu",
        "outputId": "9043533d-cc77-42b8-d80d-04039996b862"
      },
      "source": [
        "print(df10)"
      ],
      "execution_count": null,
      "outputs": [
        {
          "output_type": "stream",
          "name": "stdout",
          "text": [
            "      Release_Year\n",
            "0             2009\n",
            "1             2007\n",
            "2             2007\n",
            "3             2007\n",
            "4             2007\n",
            "...            ...\n",
            "3360          2006\n",
            "3361          2006\n",
            "3362          2005\n",
            "3363          2005\n",
            "3364          2004\n",
            "\n",
            "[3365 rows x 1 columns]\n"
          ]
        }
      ]
    },
    {
      "cell_type": "code",
      "metadata": {
        "id": "_dCDMvgQtlIH"
      },
      "source": [
        "dataset.insert(33, 'Release_Year', df10['Release_Year'])"
      ],
      "execution_count": null,
      "outputs": []
    },
    {
      "cell_type": "code",
      "metadata": {
        "colab": {
          "base_uri": "https://localhost:8080/"
        },
        "id": "pwMmexuJtyJD",
        "outputId": "0d03bfc3-81c1-4c79-9cb6-c809d925652a"
      },
      "source": [
        "dataset.info()"
      ],
      "execution_count": null,
      "outputs": [
        {
          "output_type": "stream",
          "name": "stdout",
          "text": [
            "<class 'pandas.core.frame.DataFrame'>\n",
            "RangeIndex: 3365 entries, 0 to 3364\n",
            "Data columns (total 42 columns):\n",
            " #   Column                  Non-Null Count  Dtype  \n",
            "---  ------                  --------------  -----  \n",
            " 0   Architecture            3305 non-null   object \n",
            " 1   Best_Resolution         2726 non-null   object \n",
            " 2   Boost_Clock             1412 non-null   float64\n",
            " 3   Boost_Clock_Unit        1412 non-null   object \n",
            " 4   Core_Speed              2433 non-null   float64\n",
            " 5   Core_Speed_Unit         2433 non-null   object \n",
            " 6   DVI_Connection          2615 non-null   float64\n",
            " 7   Dedicated               3351 non-null   object \n",
            " 8   Direct_X                3360 non-null   object \n",
            " 9   DisplayPort_Connection  825 non-null    float64\n",
            " 10  HDMI_Connection         2602 non-null   float64\n",
            " 11  Integrated              3351 non-null   object \n",
            " 12  L2_Cache                3365 non-null   object \n",
            " 13  Manufacturer            3365 non-null   object \n",
            " 14  Max_Power               2742 non-null   float64\n",
            " 15  Max_Power_Unit          2742 non-null   object \n",
            " 16  Memory                  2946 non-null   float64\n",
            " 17  Memory_Unit             2946 non-null   object \n",
            " 18  Memory_Bandwidth        3246 non-null   object \n",
            " 19  Memory_Bus              3305 non-null   float64\n",
            " 20  Memory_Bus_Unit         3305 non-null   object \n",
            " 21  Memory_Speed            3262 non-null   float64\n",
            " 22  Memory_Speed_Unit       3262 non-null   object \n",
            " 23  Memory_Type             3310 non-null   object \n",
            " 24  Name                    3365 non-null   object \n",
            " 25  Notebook_GPU            3365 non-null   object \n",
            " 26  Open_GL                 3325 non-null   float64\n",
            " 27  PSU                     2192 non-null   object \n",
            " 28  Pixel_Rate              2824 non-null   object \n",
            " 29  Power_Connector         2656 non-null   object \n",
            " 30  Process                 2905 non-null   object \n",
            " 31  ROPs                    2830 non-null   object \n",
            " 32  Release_Date            3365 non-null   object \n",
            " 33  Release_Year            3365 non-null   int64  \n",
            " 34  Release_Price           547 non-null    float64\n",
            " 35  Resolution_WxH          3170 non-null   object \n",
            " 36  SLI_Crossfire           3365 non-null   object \n",
            " 37  Shader                  3258 non-null   float64\n",
            " 38  TMUs                    2830 non-null   float64\n",
            " 39  Texture_Rate            3262 non-null   float64\n",
            " 40  Texture_Rate_Unit       2824 non-null   object \n",
            " 41  VGA_Connection          2607 non-null   float64\n",
            "dtypes: float64(15), int64(1), object(26)\n",
            "memory usage: 1.1+ MB\n"
          ]
        }
      ]
    },
    {
      "cell_type": "code",
      "metadata": {
        "colab": {
          "base_uri": "https://localhost:8080/",
          "height": 668
        },
        "id": "2mxO7J8w0bTO",
        "outputId": "25817f28-e252-429c-94b0-24f9675bdb52"
      },
      "source": [
        "dataset.tail(10)"
      ],
      "execution_count": null,
      "outputs": [
        {
          "output_type": "execute_result",
          "data": {
            "text/html": [
              "<div>\n",
              "<style scoped>\n",
              "    .dataframe tbody tr th:only-of-type {\n",
              "        vertical-align: middle;\n",
              "    }\n",
              "\n",
              "    .dataframe tbody tr th {\n",
              "        vertical-align: top;\n",
              "    }\n",
              "\n",
              "    .dataframe thead th {\n",
              "        text-align: right;\n",
              "    }\n",
              "</style>\n",
              "<table border=\"1\" class=\"dataframe\">\n",
              "  <thead>\n",
              "    <tr style=\"text-align: right;\">\n",
              "      <th></th>\n",
              "      <th>Architecture</th>\n",
              "      <th>Best_Resolution</th>\n",
              "      <th>Boost_Clock</th>\n",
              "      <th>Boost_Clock_Unit</th>\n",
              "      <th>Core_Speed</th>\n",
              "      <th>Core_Speed_Unit</th>\n",
              "      <th>DVI_Connection</th>\n",
              "      <th>Dedicated</th>\n",
              "      <th>Direct_X</th>\n",
              "      <th>DisplayPort_Connection</th>\n",
              "      <th>HDMI_Connection</th>\n",
              "      <th>Integrated</th>\n",
              "      <th>L2_Cache</th>\n",
              "      <th>Manufacturer</th>\n",
              "      <th>Max_Power</th>\n",
              "      <th>Max_Power_Unit</th>\n",
              "      <th>Memory</th>\n",
              "      <th>Memory_Unit</th>\n",
              "      <th>Memory_Bandwidth</th>\n",
              "      <th>Memory_Bus</th>\n",
              "      <th>Memory_Bus_Unit</th>\n",
              "      <th>Memory_Speed</th>\n",
              "      <th>Memory_Speed_Unit</th>\n",
              "      <th>Memory_Type</th>\n",
              "      <th>Name</th>\n",
              "      <th>Notebook_GPU</th>\n",
              "      <th>Open_GL</th>\n",
              "      <th>PSU</th>\n",
              "      <th>Pixel_Rate</th>\n",
              "      <th>Power_Connector</th>\n",
              "      <th>Process</th>\n",
              "      <th>ROPs</th>\n",
              "      <th>Release_Date</th>\n",
              "      <th>Release_Year</th>\n",
              "      <th>Release_Price</th>\n",
              "      <th>Resolution_WxH</th>\n",
              "      <th>SLI_Crossfire</th>\n",
              "      <th>Shader</th>\n",
              "      <th>TMUs</th>\n",
              "      <th>Texture_Rate</th>\n",
              "      <th>Texture_Rate_Unit</th>\n",
              "      <th>VGA_Connection</th>\n",
              "    </tr>\n",
              "  </thead>\n",
              "  <tbody>\n",
              "    <tr>\n",
              "      <th>3355</th>\n",
              "      <td>NV15</td>\n",
              "      <td>NaN</td>\n",
              "      <td>NaN</td>\n",
              "      <td>NaN</td>\n",
              "      <td>NaN</td>\n",
              "      <td>NaN</td>\n",
              "      <td>0.0</td>\n",
              "      <td>Yes</td>\n",
              "      <td>DX 7.0</td>\n",
              "      <td>NaN</td>\n",
              "      <td>0.0</td>\n",
              "      <td>No</td>\n",
              "      <td>0KB</td>\n",
              "      <td>Nvidia</td>\n",
              "      <td>NaN</td>\n",
              "      <td>NaN</td>\n",
              "      <td>32.0</td>\n",
              "      <td>MB</td>\n",
              "      <td>3.2GB/sec</td>\n",
              "      <td>128.0</td>\n",
              "      <td>Bit</td>\n",
              "      <td>200.0</td>\n",
              "      <td>MHz</td>\n",
              "      <td>DDR</td>\n",
              "      <td>GeForce2 Pro</td>\n",
              "      <td>No</td>\n",
              "      <td>1.2</td>\n",
              "      <td>NaN</td>\n",
              "      <td>NaN</td>\n",
              "      <td>None</td>\n",
              "      <td>NaN</td>\n",
              "      <td>NaN</td>\n",
              "      <td>05-Dec-2000</td>\n",
              "      <td>2000</td>\n",
              "      <td>NaN</td>\n",
              "      <td>NaN</td>\n",
              "      <td>No</td>\n",
              "      <td>NaN</td>\n",
              "      <td>NaN</td>\n",
              "      <td>200.0</td>\n",
              "      <td>NaN</td>\n",
              "      <td>0.0</td>\n",
              "    </tr>\n",
              "    <tr>\n",
              "      <th>3356</th>\n",
              "      <td>NV43</td>\n",
              "      <td>NaN</td>\n",
              "      <td>NaN</td>\n",
              "      <td>NaN</td>\n",
              "      <td>NaN</td>\n",
              "      <td>NaN</td>\n",
              "      <td>1.0</td>\n",
              "      <td>Yes</td>\n",
              "      <td>DX 9.0c</td>\n",
              "      <td>NaN</td>\n",
              "      <td>0.0</td>\n",
              "      <td>No</td>\n",
              "      <td>0KB</td>\n",
              "      <td>Nvidia</td>\n",
              "      <td>28.0</td>\n",
              "      <td>Watts</td>\n",
              "      <td>256.0</td>\n",
              "      <td>MB</td>\n",
              "      <td>4.4GB/sec</td>\n",
              "      <td>128.0</td>\n",
              "      <td>Bit</td>\n",
              "      <td>275.0</td>\n",
              "      <td>MHz</td>\n",
              "      <td>DDR</td>\n",
              "      <td>GeForce 6600</td>\n",
              "      <td>No</td>\n",
              "      <td>1.5</td>\n",
              "      <td>NaN</td>\n",
              "      <td>NaN</td>\n",
              "      <td>None</td>\n",
              "      <td>NaN</td>\n",
              "      <td>NaN</td>\n",
              "      <td>02-Jan-2004</td>\n",
              "      <td>2004</td>\n",
              "      <td>NaN</td>\n",
              "      <td>2560x1600</td>\n",
              "      <td>Yes</td>\n",
              "      <td>3.0</td>\n",
              "      <td>NaN</td>\n",
              "      <td>275.0</td>\n",
              "      <td>NaN</td>\n",
              "      <td>1.0</td>\n",
              "    </tr>\n",
              "    <tr>\n",
              "      <th>3357</th>\n",
              "      <td>NV44</td>\n",
              "      <td>NaN</td>\n",
              "      <td>NaN</td>\n",
              "      <td>NaN</td>\n",
              "      <td>NaN</td>\n",
              "      <td>NaN</td>\n",
              "      <td>1.0</td>\n",
              "      <td>Yes</td>\n",
              "      <td>DX 9.0c</td>\n",
              "      <td>NaN</td>\n",
              "      <td>0.0</td>\n",
              "      <td>No</td>\n",
              "      <td>0KB</td>\n",
              "      <td>Nvidia</td>\n",
              "      <td>NaN</td>\n",
              "      <td>NaN</td>\n",
              "      <td>128.0</td>\n",
              "      <td>MB</td>\n",
              "      <td>2.8GB/sec</td>\n",
              "      <td>64.0</td>\n",
              "      <td>Bit</td>\n",
              "      <td>350.0</td>\n",
              "      <td>MHz</td>\n",
              "      <td>DDR</td>\n",
              "      <td>GeForce 6200 TurboCache</td>\n",
              "      <td>No</td>\n",
              "      <td>1.5</td>\n",
              "      <td>NaN</td>\n",
              "      <td>NaN</td>\n",
              "      <td>None</td>\n",
              "      <td>NaN</td>\n",
              "      <td>NaN</td>\n",
              "      <td>02-Jan-2005</td>\n",
              "      <td>2005</td>\n",
              "      <td>NaN</td>\n",
              "      <td>2560x1600</td>\n",
              "      <td>No</td>\n",
              "      <td>3.0</td>\n",
              "      <td>NaN</td>\n",
              "      <td>350.0</td>\n",
              "      <td>NaN</td>\n",
              "      <td>1.0</td>\n",
              "    </tr>\n",
              "    <tr>\n",
              "      <th>3358</th>\n",
              "      <td>MCP61</td>\n",
              "      <td>NaN</td>\n",
              "      <td>NaN</td>\n",
              "      <td>NaN</td>\n",
              "      <td>NaN</td>\n",
              "      <td>NaN</td>\n",
              "      <td>0.0</td>\n",
              "      <td>No</td>\n",
              "      <td>DX 9.0c</td>\n",
              "      <td>NaN</td>\n",
              "      <td>0.0</td>\n",
              "      <td>Yes</td>\n",
              "      <td>0KB</td>\n",
              "      <td>Nvidia</td>\n",
              "      <td>NaN</td>\n",
              "      <td>NaN</td>\n",
              "      <td>NaN</td>\n",
              "      <td>NaN</td>\n",
              "      <td>8.5GB/sec</td>\n",
              "      <td>64.0</td>\n",
              "      <td>Bit</td>\n",
              "      <td>533.0</td>\n",
              "      <td>MHz</td>\n",
              "      <td>DDR3</td>\n",
              "      <td>GeForce 6150 SE / nForce 430 64MB DDR3</td>\n",
              "      <td>No</td>\n",
              "      <td>1.5</td>\n",
              "      <td>NaN</td>\n",
              "      <td>NaN</td>\n",
              "      <td>None</td>\n",
              "      <td>NaN</td>\n",
              "      <td>NaN</td>\n",
              "      <td>01-Oct-2010</td>\n",
              "      <td>2010</td>\n",
              "      <td>NaN</td>\n",
              "      <td>NaN</td>\n",
              "      <td>No</td>\n",
              "      <td>3.0</td>\n",
              "      <td>NaN</td>\n",
              "      <td>533.0</td>\n",
              "      <td>NaN</td>\n",
              "      <td>1.0</td>\n",
              "    </tr>\n",
              "    <tr>\n",
              "      <th>3359</th>\n",
              "      <td>C51</td>\n",
              "      <td>NaN</td>\n",
              "      <td>NaN</td>\n",
              "      <td>NaN</td>\n",
              "      <td>NaN</td>\n",
              "      <td>NaN</td>\n",
              "      <td>1.0</td>\n",
              "      <td>No</td>\n",
              "      <td>DX 9.0c</td>\n",
              "      <td>NaN</td>\n",
              "      <td>1.0</td>\n",
              "      <td>Yes</td>\n",
              "      <td>0KB</td>\n",
              "      <td>Nvidia</td>\n",
              "      <td>NaN</td>\n",
              "      <td>NaN</td>\n",
              "      <td>NaN</td>\n",
              "      <td>NaN</td>\n",
              "      <td>NaN</td>\n",
              "      <td>128.0</td>\n",
              "      <td>Bit</td>\n",
              "      <td>NaN</td>\n",
              "      <td>NaN</td>\n",
              "      <td>NaN</td>\n",
              "      <td>GeForce 6150 LE</td>\n",
              "      <td>No</td>\n",
              "      <td>2.1</td>\n",
              "      <td>NaN</td>\n",
              "      <td>0 GPixel/s</td>\n",
              "      <td>None</td>\n",
              "      <td>90nm</td>\n",
              "      <td>1</td>\n",
              "      <td>11-Oct-2004</td>\n",
              "      <td>2004</td>\n",
              "      <td>NaN</td>\n",
              "      <td>2560x1600</td>\n",
              "      <td>No</td>\n",
              "      <td>3.0</td>\n",
              "      <td>1.0</td>\n",
              "      <td>NaN</td>\n",
              "      <td>GTexel/s</td>\n",
              "      <td>1.0</td>\n",
              "    </tr>\n",
              "    <tr>\n",
              "      <th>3360</th>\n",
              "      <td>MCP61</td>\n",
              "      <td>NaN</td>\n",
              "      <td>NaN</td>\n",
              "      <td>NaN</td>\n",
              "      <td>NaN</td>\n",
              "      <td>NaN</td>\n",
              "      <td>1.0</td>\n",
              "      <td>No</td>\n",
              "      <td>DX 9.0c</td>\n",
              "      <td>NaN</td>\n",
              "      <td>1.0</td>\n",
              "      <td>Yes</td>\n",
              "      <td>0KB</td>\n",
              "      <td>Nvidia</td>\n",
              "      <td>NaN</td>\n",
              "      <td>NaN</td>\n",
              "      <td>NaN</td>\n",
              "      <td>NaN</td>\n",
              "      <td>NaN</td>\n",
              "      <td>128.0</td>\n",
              "      <td>Bit</td>\n",
              "      <td>NaN</td>\n",
              "      <td>NaN</td>\n",
              "      <td>DDR2</td>\n",
              "      <td>GeForce 6150 SE nForce 430</td>\n",
              "      <td>No</td>\n",
              "      <td>1.5</td>\n",
              "      <td>NaN</td>\n",
              "      <td>NaN</td>\n",
              "      <td>None</td>\n",
              "      <td>NaN</td>\n",
              "      <td>NaN</td>\n",
              "      <td>01-Jun-2006</td>\n",
              "      <td>2006</td>\n",
              "      <td>NaN</td>\n",
              "      <td>2560x1600</td>\n",
              "      <td>No</td>\n",
              "      <td>3.0</td>\n",
              "      <td>NaN</td>\n",
              "      <td>NaN</td>\n",
              "      <td>NaN</td>\n",
              "      <td>1.0</td>\n",
              "    </tr>\n",
              "    <tr>\n",
              "      <th>3361</th>\n",
              "      <td>MCP61</td>\n",
              "      <td>NaN</td>\n",
              "      <td>NaN</td>\n",
              "      <td>NaN</td>\n",
              "      <td>NaN</td>\n",
              "      <td>NaN</td>\n",
              "      <td>0.0</td>\n",
              "      <td>No</td>\n",
              "      <td>DX 9.0c</td>\n",
              "      <td>NaN</td>\n",
              "      <td>0.0</td>\n",
              "      <td>Yes</td>\n",
              "      <td>0KB</td>\n",
              "      <td>Nvidia</td>\n",
              "      <td>NaN</td>\n",
              "      <td>NaN</td>\n",
              "      <td>NaN</td>\n",
              "      <td>NaN</td>\n",
              "      <td>NaN</td>\n",
              "      <td>128.0</td>\n",
              "      <td>Bit</td>\n",
              "      <td>NaN</td>\n",
              "      <td>NaN</td>\n",
              "      <td>DDR2</td>\n",
              "      <td>GeForce 6150 SE 256MB</td>\n",
              "      <td>No</td>\n",
              "      <td>1.5</td>\n",
              "      <td>NaN</td>\n",
              "      <td>NaN</td>\n",
              "      <td>None</td>\n",
              "      <td>NaN</td>\n",
              "      <td>NaN</td>\n",
              "      <td>01-Jun-2006</td>\n",
              "      <td>2006</td>\n",
              "      <td>NaN</td>\n",
              "      <td>2560x1600</td>\n",
              "      <td>No</td>\n",
              "      <td>3.0</td>\n",
              "      <td>NaN</td>\n",
              "      <td>NaN</td>\n",
              "      <td>NaN</td>\n",
              "      <td>1.0</td>\n",
              "    </tr>\n",
              "    <tr>\n",
              "      <th>3362</th>\n",
              "      <td>MCP51</td>\n",
              "      <td>NaN</td>\n",
              "      <td>NaN</td>\n",
              "      <td>NaN</td>\n",
              "      <td>NaN</td>\n",
              "      <td>NaN</td>\n",
              "      <td>0.0</td>\n",
              "      <td>NaN</td>\n",
              "      <td>DX 9</td>\n",
              "      <td>NaN</td>\n",
              "      <td>0.0</td>\n",
              "      <td>NaN</td>\n",
              "      <td>0KB</td>\n",
              "      <td>Nvidia</td>\n",
              "      <td>NaN</td>\n",
              "      <td>NaN</td>\n",
              "      <td>NaN</td>\n",
              "      <td>NaN</td>\n",
              "      <td>NaN</td>\n",
              "      <td>NaN</td>\n",
              "      <td>NaN</td>\n",
              "      <td>NaN</td>\n",
              "      <td>NaN</td>\n",
              "      <td>NaN</td>\n",
              "      <td>GeForce 6100 nForce 405</td>\n",
              "      <td>No</td>\n",
              "      <td>NaN</td>\n",
              "      <td>NaN</td>\n",
              "      <td>NaN</td>\n",
              "      <td>None</td>\n",
              "      <td>NaN</td>\n",
              "      <td>NaN</td>\n",
              "      <td>20-Oct-2005</td>\n",
              "      <td>2005</td>\n",
              "      <td>NaN</td>\n",
              "      <td>NaN</td>\n",
              "      <td>No</td>\n",
              "      <td>NaN</td>\n",
              "      <td>NaN</td>\n",
              "      <td>NaN</td>\n",
              "      <td>NaN</td>\n",
              "      <td>0.0</td>\n",
              "    </tr>\n",
              "    <tr>\n",
              "      <th>3363</th>\n",
              "      <td>MCP51</td>\n",
              "      <td>NaN</td>\n",
              "      <td>NaN</td>\n",
              "      <td>NaN</td>\n",
              "      <td>NaN</td>\n",
              "      <td>NaN</td>\n",
              "      <td>NaN</td>\n",
              "      <td>No</td>\n",
              "      <td>DX 9.0c</td>\n",
              "      <td>NaN</td>\n",
              "      <td>0.0</td>\n",
              "      <td>Yes</td>\n",
              "      <td>0KB</td>\n",
              "      <td>Nvidia</td>\n",
              "      <td>NaN</td>\n",
              "      <td>NaN</td>\n",
              "      <td>NaN</td>\n",
              "      <td>NaN</td>\n",
              "      <td>NaN</td>\n",
              "      <td>128.0</td>\n",
              "      <td>Bit</td>\n",
              "      <td>NaN</td>\n",
              "      <td>NaN</td>\n",
              "      <td>DDR2</td>\n",
              "      <td>GeForce 6100</td>\n",
              "      <td>No</td>\n",
              "      <td>1.5</td>\n",
              "      <td>NaN</td>\n",
              "      <td>NaN</td>\n",
              "      <td>None</td>\n",
              "      <td>NaN</td>\n",
              "      <td>NaN</td>\n",
              "      <td>01-Nov-2005</td>\n",
              "      <td>2005</td>\n",
              "      <td>NaN</td>\n",
              "      <td>2560x1600</td>\n",
              "      <td>No</td>\n",
              "      <td>3.0</td>\n",
              "      <td>NaN</td>\n",
              "      <td>NaN</td>\n",
              "      <td>NaN</td>\n",
              "      <td>1.0</td>\n",
              "    </tr>\n",
              "    <tr>\n",
              "      <th>3364</th>\n",
              "      <td>NV43</td>\n",
              "      <td>NaN</td>\n",
              "      <td>NaN</td>\n",
              "      <td>NaN</td>\n",
              "      <td>NaN</td>\n",
              "      <td>NaN</td>\n",
              "      <td>1.0</td>\n",
              "      <td>Yes</td>\n",
              "      <td>DX 9.0c</td>\n",
              "      <td>NaN</td>\n",
              "      <td>0.0</td>\n",
              "      <td>No</td>\n",
              "      <td>0KB</td>\n",
              "      <td>Nvidia</td>\n",
              "      <td>NaN</td>\n",
              "      <td>NaN</td>\n",
              "      <td>256.0</td>\n",
              "      <td>MB</td>\n",
              "      <td>8.8GB/sec</td>\n",
              "      <td>128.0</td>\n",
              "      <td>Bit</td>\n",
              "      <td>275.0</td>\n",
              "      <td>MHz</td>\n",
              "      <td>DDR2</td>\n",
              "      <td>GeForce 6200</td>\n",
              "      <td>No</td>\n",
              "      <td>1.5</td>\n",
              "      <td>NaN</td>\n",
              "      <td>NaN</td>\n",
              "      <td>None</td>\n",
              "      <td>NaN</td>\n",
              "      <td>NaN</td>\n",
              "      <td>02-Jan-2004</td>\n",
              "      <td>2004</td>\n",
              "      <td>NaN</td>\n",
              "      <td>2560x1600</td>\n",
              "      <td>No</td>\n",
              "      <td>3.0</td>\n",
              "      <td>NaN</td>\n",
              "      <td>275.0</td>\n",
              "      <td>NaN</td>\n",
              "      <td>1.0</td>\n",
              "    </tr>\n",
              "  </tbody>\n",
              "</table>\n",
              "</div>"
            ],
            "text/plain": [
              "     Architecture Best_Resolution  ...  Texture_Rate_Unit VGA_Connection\n",
              "3355        NV15              NaN  ...                NaN            0.0\n",
              "3356        NV43              NaN  ...                NaN            1.0\n",
              "3357        NV44              NaN  ...                NaN            1.0\n",
              "3358       MCP61              NaN  ...                NaN            1.0\n",
              "3359         C51              NaN  ...           GTexel/s            1.0\n",
              "3360       MCP61              NaN  ...                NaN            1.0\n",
              "3361       MCP61              NaN  ...                NaN            1.0\n",
              "3362       MCP51              NaN  ...                NaN            0.0\n",
              "3363       MCP51              NaN  ...                NaN            1.0\n",
              "3364        NV43              NaN  ...                NaN            1.0\n",
              "\n",
              "[10 rows x 42 columns]"
            ]
          },
          "metadata": {},
          "execution_count": 53
        }
      ]
    },
    {
      "cell_type": "markdown",
      "metadata": {
        "id": "awyS95WSkyTk"
      },
      "source": [
        "# Extract data\n"
      ]
    },
    {
      "cell_type": "code",
      "metadata": {
        "id": "FJbWK97Yk1fu"
      },
      "source": [
        "ext_data = dataset[['Manufacturer','Name','Architecture','Boost_Clock','Core_Speed','Max_Power','Memory','Memory_Bus', 'Memory_Speed', 'Release_Year', 'Release_Price','Shader','TMUs']]"
      ],
      "execution_count": null,
      "outputs": []
    },
    {
      "cell_type": "markdown",
      "metadata": {
        "id": "EMPUIBKIAkRV"
      },
      "source": [
        ""
      ]
    },
    {
      "cell_type": "code",
      "metadata": {
        "colab": {
          "base_uri": "https://localhost:8080/"
        },
        "id": "H45P89GOmgBz",
        "outputId": "00c1b26d-f580-4447-cb07-5d7a6f9867fd"
      },
      "source": [
        "ext_data.info()"
      ],
      "execution_count": null,
      "outputs": [
        {
          "output_type": "stream",
          "name": "stdout",
          "text": [
            "<class 'pandas.core.frame.DataFrame'>\n",
            "RangeIndex: 3365 entries, 0 to 3364\n",
            "Data columns (total 13 columns):\n",
            " #   Column         Non-Null Count  Dtype  \n",
            "---  ------         --------------  -----  \n",
            " 0   Manufacturer   3365 non-null   object \n",
            " 1   Name           3365 non-null   object \n",
            " 2   Architecture   3305 non-null   object \n",
            " 3   Boost_Clock    1412 non-null   float64\n",
            " 4   Core_Speed     2433 non-null   float64\n",
            " 5   Max_Power      2742 non-null   float64\n",
            " 6   Memory         2946 non-null   float64\n",
            " 7   Memory_Bus     3305 non-null   float64\n",
            " 8   Memory_Speed   3262 non-null   float64\n",
            " 9   Release_Year   3365 non-null   int64  \n",
            " 10  Release_Price  547 non-null    float64\n",
            " 11  Shader         3258 non-null   float64\n",
            " 12  TMUs           2830 non-null   float64\n",
            "dtypes: float64(9), int64(1), object(3)\n",
            "memory usage: 341.9+ KB\n"
          ]
        }
      ]
    },
    {
      "cell_type": "code",
      "metadata": {
        "colab": {
          "base_uri": "https://localhost:8080/"
        },
        "id": "t0J9JbsMuIgJ",
        "outputId": "9998a125-59c0-4069-9eb8-b13f4f16f89f"
      },
      "source": [
        "ext_data.isna().sum()"
      ],
      "execution_count": null,
      "outputs": [
        {
          "output_type": "execute_result",
          "data": {
            "text/plain": [
              "Manufacturer        0\n",
              "Name                0\n",
              "Architecture       60\n",
              "Boost_Clock      1953\n",
              "Core_Speed        932\n",
              "Max_Power         623\n",
              "Memory            419\n",
              "Memory_Bus         60\n",
              "Memory_Speed      103\n",
              "Release_Year        0\n",
              "Release_Price    2818\n",
              "Shader            107\n",
              "TMUs              535\n",
              "dtype: int64"
            ]
          },
          "metadata": {},
          "execution_count": 56
        }
      ]
    },
    {
      "cell_type": "code",
      "metadata": {
        "id": "5c9U6NhTvBWH"
      },
      "source": [
        "ext_data_2 = ext_data.dropna()"
      ],
      "execution_count": null,
      "outputs": []
    },
    {
      "cell_type": "code",
      "metadata": {
        "colab": {
          "base_uri": "https://localhost:8080/"
        },
        "id": "Dzo3OK_mvFDn",
        "outputId": "d89357a2-225c-40b4-8d96-aa039b10996f"
      },
      "source": [
        "ext_data_2 = ext_data_2.reset_index(drop=True)\n",
        "ext_data_2.info()"
      ],
      "execution_count": null,
      "outputs": [
        {
          "output_type": "stream",
          "name": "stdout",
          "text": [
            "<class 'pandas.core.frame.DataFrame'>\n",
            "RangeIndex: 281 entries, 0 to 280\n",
            "Data columns (total 13 columns):\n",
            " #   Column         Non-Null Count  Dtype  \n",
            "---  ------         --------------  -----  \n",
            " 0   Manufacturer   281 non-null    object \n",
            " 1   Name           281 non-null    object \n",
            " 2   Architecture   281 non-null    object \n",
            " 3   Boost_Clock    281 non-null    float64\n",
            " 4   Core_Speed     281 non-null    float64\n",
            " 5   Max_Power      281 non-null    float64\n",
            " 6   Memory         281 non-null    float64\n",
            " 7   Memory_Bus     281 non-null    float64\n",
            " 8   Memory_Speed   281 non-null    float64\n",
            " 9   Release_Year   281 non-null    int64  \n",
            " 10  Release_Price  281 non-null    float64\n",
            " 11  Shader         281 non-null    float64\n",
            " 12  TMUs           281 non-null    float64\n",
            "dtypes: float64(9), int64(1), object(3)\n",
            "memory usage: 28.7+ KB\n"
          ]
        }
      ]
    },
    {
      "cell_type": "code",
      "metadata": {
        "id": "rF6Omabb6bhI",
        "colab": {
          "base_uri": "https://localhost:8080/"
        },
        "outputId": "3869df33-c9c0-41c0-b29f-72d569921a6e"
      },
      "source": [
        "ext_data_2.head(10)"
      ],
      "execution_count": null,
      "outputs": [
        {
          "output_type": "execute_result",
          "data": {
            "text/html": [
              "<div>\n",
              "<style scoped>\n",
              "    .dataframe tbody tr th:only-of-type {\n",
              "        vertical-align: middle;\n",
              "    }\n",
              "\n",
              "    .dataframe tbody tr th {\n",
              "        vertical-align: top;\n",
              "    }\n",
              "\n",
              "    .dataframe thead th {\n",
              "        text-align: right;\n",
              "    }\n",
              "</style>\n",
              "<table border=\"1\" class=\"dataframe\">\n",
              "  <thead>\n",
              "    <tr style=\"text-align: right;\">\n",
              "      <th></th>\n",
              "      <th>Manufacturer</th>\n",
              "      <th>Name</th>\n",
              "      <th>Architecture</th>\n",
              "      <th>Boost_Clock</th>\n",
              "      <th>Core_Speed</th>\n",
              "      <th>Max_Power</th>\n",
              "      <th>Memory</th>\n",
              "      <th>Memory_Bus</th>\n",
              "      <th>Memory_Speed</th>\n",
              "      <th>Release_Year</th>\n",
              "      <th>Release_Price</th>\n",
              "      <th>Shader</th>\n",
              "      <th>TMUs</th>\n",
              "    </tr>\n",
              "  </thead>\n",
              "  <tbody>\n",
              "    <tr>\n",
              "      <th>0</th>\n",
              "      <td>Nvidia</td>\n",
              "      <td>GeForce GTX Titan Z Palit 12GB Edition</td>\n",
              "      <td>Kepler GK110-430-B1 (x2)</td>\n",
              "      <td>876.0</td>\n",
              "      <td>705.0</td>\n",
              "      <td>375.0</td>\n",
              "      <td>12288.0</td>\n",
              "      <td>384.0</td>\n",
              "      <td>1750.0</td>\n",
              "      <td>2014</td>\n",
              "      <td>2999.0</td>\n",
              "      <td>5.0</td>\n",
              "      <td>240.0</td>\n",
              "    </tr>\n",
              "    <tr>\n",
              "      <th>1</th>\n",
              "      <td>Nvidia</td>\n",
              "      <td>GeForce GTX Titan Z</td>\n",
              "      <td>Kepler GK110-430-B1 (x2)</td>\n",
              "      <td>876.0</td>\n",
              "      <td>705.0</td>\n",
              "      <td>375.0</td>\n",
              "      <td>12288.0</td>\n",
              "      <td>384.0</td>\n",
              "      <td>1750.0</td>\n",
              "      <td>2014</td>\n",
              "      <td>2999.0</td>\n",
              "      <td>5.0</td>\n",
              "      <td>240.0</td>\n",
              "    </tr>\n",
              "    <tr>\n",
              "      <th>2</th>\n",
              "      <td>Nvidia</td>\n",
              "      <td>GeForce GTX Titan X EVGA Hybrid 12GB Edition</td>\n",
              "      <td>Maxwell GM200-400-A1</td>\n",
              "      <td>1252.0</td>\n",
              "      <td>1140.0</td>\n",
              "      <td>250.0</td>\n",
              "      <td>12288.0</td>\n",
              "      <td>384.0</td>\n",
              "      <td>1753.0</td>\n",
              "      <td>2015</td>\n",
              "      <td>1099.0</td>\n",
              "      <td>5.0</td>\n",
              "      <td>192.0</td>\n",
              "    </tr>\n",
              "    <tr>\n",
              "      <th>3</th>\n",
              "      <td>Nvidia</td>\n",
              "      <td>GeForce GTX Titan X SLI</td>\n",
              "      <td>Maxwell GM200-400-A1 (x2)</td>\n",
              "      <td>1089.0</td>\n",
              "      <td>1000.0</td>\n",
              "      <td>450.0</td>\n",
              "      <td>24576.0</td>\n",
              "      <td>384.0</td>\n",
              "      <td>1753.0</td>\n",
              "      <td>2015</td>\n",
              "      <td>1998.0</td>\n",
              "      <td>5.0</td>\n",
              "      <td>192.0</td>\n",
              "    </tr>\n",
              "    <tr>\n",
              "      <th>4</th>\n",
              "      <td>Nvidia</td>\n",
              "      <td>GeForce GTX Titan X</td>\n",
              "      <td>Maxwell GM200-400-A1</td>\n",
              "      <td>1089.0</td>\n",
              "      <td>1000.0</td>\n",
              "      <td>250.0</td>\n",
              "      <td>12288.0</td>\n",
              "      <td>384.0</td>\n",
              "      <td>1753.0</td>\n",
              "      <td>2015</td>\n",
              "      <td>999.0</td>\n",
              "      <td>5.0</td>\n",
              "      <td>192.0</td>\n",
              "    </tr>\n",
              "    <tr>\n",
              "      <th>5</th>\n",
              "      <td>Nvidia</td>\n",
              "      <td>GeForce GTX Titan X EVGA Superclocked 12GB Edi...</td>\n",
              "      <td>Maxwell GM200-400-A1</td>\n",
              "      <td>1216.0</td>\n",
              "      <td>1127.0</td>\n",
              "      <td>250.0</td>\n",
              "      <td>12288.0</td>\n",
              "      <td>384.0</td>\n",
              "      <td>1753.0</td>\n",
              "      <td>2015</td>\n",
              "      <td>1029.0</td>\n",
              "      <td>5.0</td>\n",
              "      <td>192.0</td>\n",
              "    </tr>\n",
              "    <tr>\n",
              "      <th>6</th>\n",
              "      <td>Nvidia</td>\n",
              "      <td>GeForce GTX Titan Black Edition</td>\n",
              "      <td>Kepler GK110-430-B1</td>\n",
              "      <td>980.0</td>\n",
              "      <td>889.0</td>\n",
              "      <td>250.0</td>\n",
              "      <td>6144.0</td>\n",
              "      <td>384.0</td>\n",
              "      <td>1750.0</td>\n",
              "      <td>2014</td>\n",
              "      <td>999.0</td>\n",
              "      <td>5.0</td>\n",
              "      <td>240.0</td>\n",
              "    </tr>\n",
              "    <tr>\n",
              "      <th>7</th>\n",
              "      <td>Nvidia</td>\n",
              "      <td>GeForce GTX Titan</td>\n",
              "      <td>Kepler GK110-400-A1</td>\n",
              "      <td>876.0</td>\n",
              "      <td>837.0</td>\n",
              "      <td>250.0</td>\n",
              "      <td>6144.0</td>\n",
              "      <td>384.0</td>\n",
              "      <td>1502.0</td>\n",
              "      <td>2013</td>\n",
              "      <td>999.0</td>\n",
              "      <td>5.0</td>\n",
              "      <td>224.0</td>\n",
              "    </tr>\n",
              "    <tr>\n",
              "      <th>8</th>\n",
              "      <td>AMD</td>\n",
              "      <td>Radeon R9 370X</td>\n",
              "      <td>GCN 1.0 Trinidad XT</td>\n",
              "      <td>1050.0</td>\n",
              "      <td>1000.0</td>\n",
              "      <td>180.0</td>\n",
              "      <td>2048.0</td>\n",
              "      <td>256.0</td>\n",
              "      <td>1400.0</td>\n",
              "      <td>2015</td>\n",
              "      <td>199.0</td>\n",
              "      <td>5.0</td>\n",
              "      <td>80.0</td>\n",
              "    </tr>\n",
              "    <tr>\n",
              "      <th>9</th>\n",
              "      <td>AMD</td>\n",
              "      <td>Radeon R7 370 Sapphire Dual-X OC 2GB Edition</td>\n",
              "      <td>GCN 1.0 Trinidad PRO</td>\n",
              "      <td>1035.0</td>\n",
              "      <td>985.0</td>\n",
              "      <td>150.0</td>\n",
              "      <td>2048.0</td>\n",
              "      <td>256.0</td>\n",
              "      <td>1400.0</td>\n",
              "      <td>2015</td>\n",
              "      <td>154.0</td>\n",
              "      <td>5.0</td>\n",
              "      <td>64.0</td>\n",
              "    </tr>\n",
              "  </tbody>\n",
              "</table>\n",
              "</div>"
            ],
            "text/plain": [
              "  Manufacturer  ...   TMUs\n",
              "0       Nvidia  ...  240.0\n",
              "1       Nvidia  ...  240.0\n",
              "2       Nvidia  ...  192.0\n",
              "3       Nvidia  ...  192.0\n",
              "4       Nvidia  ...  192.0\n",
              "5       Nvidia  ...  192.0\n",
              "6       Nvidia  ...  240.0\n",
              "7       Nvidia  ...  224.0\n",
              "8          AMD  ...   80.0\n",
              "9          AMD  ...   64.0\n",
              "\n",
              "[10 rows x 13 columns]"
            ]
          },
          "metadata": {},
          "execution_count": 59
        }
      ]
    },
    {
      "cell_type": "code",
      "metadata": {
        "id": "gyMgc7w4J6d_",
        "colab": {
          "base_uri": "https://localhost:8080/"
        },
        "outputId": "f1e3b7f0-034c-47d1-9700-43e686dd8d42"
      },
      "source": [
        "dataset.to_csv('data_2.csv')\n",
        "!cp data.csv \"drive/My Drive/\""
      ],
      "execution_count": null,
      "outputs": [
        {
          "output_type": "stream",
          "name": "stdout",
          "text": [
            "cp: cannot stat 'data.csv': No such file or directory\n"
          ]
        }
      ]
    },
    {
      "cell_type": "markdown",
      "metadata": {
        "id": "ly9VYAYGJ2HZ"
      },
      "source": [
        "# **Exponiential model**"
      ]
    },
    {
      "cell_type": "code",
      "metadata": {
        "id": "uLB3Lbp7J9JN"
      },
      "source": [
        "df_e = dataset[['Core_Speed', 'Manufacturer', 'Memory', 'Memory_Bandwidth', 'Name', 'Release_Date', 'Release_Year']]"
      ],
      "execution_count": null,
      "outputs": []
    },
    {
      "cell_type": "code",
      "metadata": {
        "colab": {
          "base_uri": "https://localhost:8080/",
          "height": 419
        },
        "id": "1IYL7zZxLLM2",
        "outputId": "ed9bda56-7854-4f10-a222-9c31b354f783"
      },
      "source": [
        "df_e"
      ],
      "execution_count": null,
      "outputs": [
        {
          "output_type": "execute_result",
          "data": {
            "text/html": [
              "<div>\n",
              "<style scoped>\n",
              "    .dataframe tbody tr th:only-of-type {\n",
              "        vertical-align: middle;\n",
              "    }\n",
              "\n",
              "    .dataframe tbody tr th {\n",
              "        vertical-align: top;\n",
              "    }\n",
              "\n",
              "    .dataframe thead th {\n",
              "        text-align: right;\n",
              "    }\n",
              "</style>\n",
              "<table border=\"1\" class=\"dataframe\">\n",
              "  <thead>\n",
              "    <tr style=\"text-align: right;\">\n",
              "      <th></th>\n",
              "      <th>Core_Speed</th>\n",
              "      <th>Manufacturer</th>\n",
              "      <th>Memory</th>\n",
              "      <th>Memory_Bandwidth</th>\n",
              "      <th>Name</th>\n",
              "      <th>Release_Date</th>\n",
              "      <th>Release_Year</th>\n",
              "    </tr>\n",
              "  </thead>\n",
              "  <tbody>\n",
              "    <tr>\n",
              "      <th>0</th>\n",
              "      <td>738.0</td>\n",
              "      <td>Nvidia</td>\n",
              "      <td>1024.0</td>\n",
              "      <td>64GB/sec</td>\n",
              "      <td>GeForce GTS 150</td>\n",
              "      <td>01-Mar-2009</td>\n",
              "      <td>2009</td>\n",
              "    </tr>\n",
              "    <tr>\n",
              "      <th>1</th>\n",
              "      <td>NaN</td>\n",
              "      <td>AMD</td>\n",
              "      <td>512.0</td>\n",
              "      <td>106GB/sec</td>\n",
              "      <td>Radeon HD 2900 XT 512MB</td>\n",
              "      <td>14-May-2007</td>\n",
              "      <td>2007</td>\n",
              "    </tr>\n",
              "    <tr>\n",
              "      <th>2</th>\n",
              "      <td>NaN</td>\n",
              "      <td>AMD</td>\n",
              "      <td>512.0</td>\n",
              "      <td>51.2GB/sec</td>\n",
              "      <td>Radeon HD 2900 Pro</td>\n",
              "      <td>07-Dec-2007</td>\n",
              "      <td>2007</td>\n",
              "    </tr>\n",
              "    <tr>\n",
              "      <th>3</th>\n",
              "      <td>NaN</td>\n",
              "      <td>AMD</td>\n",
              "      <td>256.0</td>\n",
              "      <td>36.8GB/sec</td>\n",
              "      <td>Radeon HD 2600 XT Diamond Edition</td>\n",
              "      <td>01-Jul-2007</td>\n",
              "      <td>2007</td>\n",
              "    </tr>\n",
              "    <tr>\n",
              "      <th>4</th>\n",
              "      <td>NaN</td>\n",
              "      <td>AMD</td>\n",
              "      <td>256.0</td>\n",
              "      <td>22.4GB/sec</td>\n",
              "      <td>Radeon HD 2600 XT</td>\n",
              "      <td>28-Jun-2007</td>\n",
              "      <td>2007</td>\n",
              "    </tr>\n",
              "    <tr>\n",
              "      <th>...</th>\n",
              "      <td>...</td>\n",
              "      <td>...</td>\n",
              "      <td>...</td>\n",
              "      <td>...</td>\n",
              "      <td>...</td>\n",
              "      <td>...</td>\n",
              "      <td>...</td>\n",
              "    </tr>\n",
              "    <tr>\n",
              "      <th>3360</th>\n",
              "      <td>NaN</td>\n",
              "      <td>Nvidia</td>\n",
              "      <td>NaN</td>\n",
              "      <td>NaN</td>\n",
              "      <td>GeForce 6150 SE nForce 430</td>\n",
              "      <td>01-Jun-2006</td>\n",
              "      <td>2006</td>\n",
              "    </tr>\n",
              "    <tr>\n",
              "      <th>3361</th>\n",
              "      <td>NaN</td>\n",
              "      <td>Nvidia</td>\n",
              "      <td>NaN</td>\n",
              "      <td>NaN</td>\n",
              "      <td>GeForce 6150 SE 256MB</td>\n",
              "      <td>01-Jun-2006</td>\n",
              "      <td>2006</td>\n",
              "    </tr>\n",
              "    <tr>\n",
              "      <th>3362</th>\n",
              "      <td>NaN</td>\n",
              "      <td>Nvidia</td>\n",
              "      <td>NaN</td>\n",
              "      <td>NaN</td>\n",
              "      <td>GeForce 6100 nForce 405</td>\n",
              "      <td>20-Oct-2005</td>\n",
              "      <td>2005</td>\n",
              "    </tr>\n",
              "    <tr>\n",
              "      <th>3363</th>\n",
              "      <td>NaN</td>\n",
              "      <td>Nvidia</td>\n",
              "      <td>NaN</td>\n",
              "      <td>NaN</td>\n",
              "      <td>GeForce 6100</td>\n",
              "      <td>01-Nov-2005</td>\n",
              "      <td>2005</td>\n",
              "    </tr>\n",
              "    <tr>\n",
              "      <th>3364</th>\n",
              "      <td>NaN</td>\n",
              "      <td>Nvidia</td>\n",
              "      <td>256.0</td>\n",
              "      <td>8.8GB/sec</td>\n",
              "      <td>GeForce 6200</td>\n",
              "      <td>02-Jan-2004</td>\n",
              "      <td>2004</td>\n",
              "    </tr>\n",
              "  </tbody>\n",
              "</table>\n",
              "<p>3365 rows × 7 columns</p>\n",
              "</div>"
            ],
            "text/plain": [
              "      Core_Speed Manufacturer  ...  Release_Date Release_Year\n",
              "0          738.0       Nvidia  ...   01-Mar-2009         2009\n",
              "1            NaN          AMD  ...   14-May-2007         2007\n",
              "2            NaN          AMD  ...   07-Dec-2007         2007\n",
              "3            NaN          AMD  ...   01-Jul-2007         2007\n",
              "4            NaN          AMD  ...   28-Jun-2007         2007\n",
              "...          ...          ...  ...           ...          ...\n",
              "3360         NaN       Nvidia  ...   01-Jun-2006         2006\n",
              "3361         NaN       Nvidia  ...   01-Jun-2006         2006\n",
              "3362         NaN       Nvidia  ...   20-Oct-2005         2005\n",
              "3363         NaN       Nvidia  ...   01-Nov-2005         2005\n",
              "3364         NaN       Nvidia  ...   02-Jan-2004         2004\n",
              "\n",
              "[3365 rows x 7 columns]"
            ]
          },
          "metadata": {},
          "execution_count": 62
        }
      ]
    },
    {
      "cell_type": "code",
      "metadata": {
        "colab": {
          "base_uri": "https://localhost:8080/"
        },
        "id": "lWvM6tHnL0Tm",
        "outputId": "ecd63dc8-fb61-4c7a-e3f5-2bccdc4a0add"
      },
      "source": [
        "year_arr = df_e.sort_values(\"Release_Year\")['Release_Year'].unique()\n",
        "year_arr"
      ],
      "execution_count": null,
      "outputs": [
        {
          "output_type": "execute_result",
          "data": {
            "text/plain": [
              "array([1998, 1999, 2000, 2001, 2002, 2003, 2004, 2005, 2006, 2007, 2008,\n",
              "       2009, 2010, 2011, 2012, 2013, 2014, 2015, 2016, 2017])"
            ]
          },
          "metadata": {},
          "execution_count": 63
        }
      ]
    },
    {
      "cell_type": "code",
      "metadata": {
        "colab": {
          "base_uri": "https://localhost:8080/"
        },
        "id": "eIesLc8uL9gg",
        "outputId": "d6162863-deb7-442c-9bef-1738f19c96f0"
      },
      "source": [
        "memory_arr_mean = dataset.groupby('Release_Year')['Memory'].mean().values\n",
        "memory_arr_mean"
      ],
      "execution_count": null,
      "outputs": [
        {
          "output_type": "execute_result",
          "data": {
            "text/plain": [
              "array([  16.        ,   32.        ,   41.6       ,   73.6       ,\n",
              "        100.74074074,  156.16      ,  200.25806452,  295.22580645,\n",
              "        336.69565217,  453.95348837,  783.85321101, 1114.56603774,\n",
              "       1393.50943396, 1530.        , 2241.72972973, 2834.7099768 ,\n",
              "       3658.88955224, 4459.65562914, 5677.82101167, 7276.75816993])"
            ]
          },
          "metadata": {},
          "execution_count": 64
        }
      ]
    },
    {
      "cell_type": "code",
      "metadata": {
        "colab": {
          "base_uri": "https://localhost:8080/"
        },
        "id": "LDgdDixmUSA3",
        "outputId": "f9f17ecf-2e5f-42b8-bd15-c97e97c03576"
      },
      "source": [
        "memory_arr_median = dataset.groupby('Release_Year')['Memory'].median().values\n",
        "memory_arr_median"
      ],
      "execution_count": null,
      "outputs": [
        {
          "output_type": "execute_result",
          "data": {
            "text/plain": [
              "array([  16.,   32.,   32.,   64.,  128.,  128.,  256.,  256.,  256.,\n",
              "        256.,  512., 1024., 1024., 1024., 2048., 2048., 3072., 4096.,\n",
              "       6144., 8192.])"
            ]
          },
          "metadata": {},
          "execution_count": 65
        }
      ]
    },
    {
      "cell_type": "markdown",
      "metadata": {
        "id": "IQ_gFEFhLjgB"
      },
      "source": [
        "**Build model**"
      ]
    },
    {
      "cell_type": "code",
      "metadata": {
        "id": "ZXG4Ws3mTTNT"
      },
      "source": [
        "from scipy.optimize import curve_fit\n",
        "\n",
        "def calculateMooresValue(x, y_trans):\n",
        "    return memory_arr_median[0] * 2**((x-y_trans)/2)\n",
        "\n",
        "def exponentialCurve(x, a, b, c):\n",
        "    return a*2**((x-c)*b)\n",
        "\n",
        "y_pred_moore_law_teoretic = calculateMooresValue(year_arr, year_arr[0])\n",
        "\n",
        "popt, pcov = curve_fit(f=exponentialCurve,  xdata=year_arr, ydata=memory_arr_mean,  p0=(2, 0.5, 1998))\n",
        "y_pred_moore_law_fitted = exponentialCurve(year_arr, *popt)"
      ],
      "execution_count": null,
      "outputs": []
    },
    {
      "cell_type": "code",
      "metadata": {
        "colab": {
          "base_uri": "https://localhost:8080/"
        },
        "id": "mhVAjrrZWjr0",
        "outputId": "3c99d8ef-7b47-4e8f-d7f4-9fbc1ffb5c22"
      },
      "source": [
        "print(popt)"
      ],
      "execution_count": null,
      "outputs": [
        {
          "output_type": "stream",
          "name": "stdout",
          "text": [
            "[1.04294249e+01 3.55525954e-01 1.99040139e+03]\n"
          ]
        }
      ]
    },
    {
      "cell_type": "code",
      "metadata": {
        "colab": {
          "base_uri": "https://localhost:8080/"
        },
        "id": "17OdUoeoiSXG",
        "outputId": "a281543c-2846-4b3d-f14d-603aff7f01af"
      },
      "source": [
        "y_pred_moore_law_fitted"
      ],
      "execution_count": null,
      "outputs": [
        {
          "output_type": "execute_result",
          "data": {
            "text/plain": [
              "array([  67.84120125,   86.79955638,  111.05586059,  142.090636  ,\n",
              "        181.79813954,  232.60198187,  297.60305638,  380.7688071 ,\n",
              "        487.17538799,  623.31749408,  797.5047755 , 1020.36903021,\n",
              "       1305.51313269, 1670.3413071 , 2137.1214217 , 2734.34414374,\n",
              "       3498.46191258, 4476.11387243, 5726.97256669, 7327.38614664])"
            ]
          },
          "metadata": {},
          "execution_count": 68
        }
      ]
    },
    {
      "cell_type": "code",
      "metadata": {
        "colab": {
          "base_uri": "https://localhost:8080/",
          "height": 545
        },
        "id": "WEhv2dNXUZc9",
        "outputId": "ed386315-5e56-4ea5-b29a-4970bedd1e37"
      },
      "source": [
        "plt.figure()\n",
        "plt.figure(figsize=(16,8))\n",
        "plt.title('GPU Memory vs Year of Release [Logaritmic scale]', fontsize=20, fontweight='bold', y=1.05,)\n",
        "plt.xlabel('Year of Release', fontsize=15)\n",
        "plt.ylabel('GPU Memory', fontsize=15)\n",
        "sns.set_style(\"whitegrid\")\n",
        "\n",
        "plt.loglog(year_arr, memory_arr_mean, label=\"Mean\", basex= 2)\n",
        "plt.loglog(year_arr, memory_arr_median, label=\"Median\", basex= 2)\n",
        "plt.loglog(year_arr, y_pred_moore_law_teoretic, label=\"Moore's law teoretic\", basex= 2)\n",
        "plt.loglog(year_arr, y_pred_moore_law_fitted, label=\"Moore's law fitted\", basex= 2)\n",
        "plt.legend(loc=4, prop={'size': 15}, frameon=True,shadow=True, facecolor=\"white\", edgecolor=\"black\")\n",
        "plt.show()"
      ],
      "execution_count": null,
      "outputs": [
        {
          "output_type": "display_data",
          "data": {
            "text/plain": [
              "<Figure size 432x288 with 0 Axes>"
            ]
          },
          "metadata": {}
        },
        {
          "output_type": "display_data",
          "data": {
            "image/png": "[encoded data removed]",
            "text/plain": [
              "<Figure size 1152x576 with 1 Axes>"
            ]
          },
          "metadata": {}
        }
      ]
    },
    {
      "cell_type": "markdown",
      "metadata": {
        "id": "x7ZC-hskJ6B3"
      },
      "source": [
        "# **Polynomial model**"
      ]
    },
    {
      "cell_type": "markdown",
      "metadata": {
        "id": "AEYWx6vOLEBn"
      },
      "source": [
        "**Build model**"
      ]
    },
    {
      "cell_type": "code",
      "metadata": {
        "id": "YX8iykIqCyJ-"
      },
      "source": [
        "from sklearn.linear_model import LinearRegression\n",
        "from sklearn.preprocessing import PolynomialFeatures\n",
        "\n",
        "# Fitting Polynomial Regression to the dataset\n",
        "poly_reg_2 = PolynomialFeatures(degree = 2, include_bias=False)\n",
        "poly_reg_3 = PolynomialFeatures(degree = 3, include_bias=False)\n",
        "\n",
        "X_poly_2 = poly_reg_2.fit_transform(year_arr.reshape(-1, 1))\n",
        "X_poly_3 = poly_reg_3.fit_transform(year_arr.reshape(-1, 1))\n",
        "\n",
        "lin_reg_2 = LinearRegression()\n",
        "lin_reg_3 = LinearRegression()"
      ],
      "execution_count": null,
      "outputs": []
    },
    {
      "cell_type": "code",
      "metadata": {
        "id": "JbT5CrtwkpJ-"
      },
      "source": [
        "lin_reg_2.fit(X_poly_2, memory_arr_mean)\n",
        "lin_reg_3.fit(X_poly_3, memory_arr_mean)"
      ],
      "execution_count": null,
      "outputs": []
    },
    {
      "cell_type": "code",
      "metadata": {
        "id": "y2UsIIy33aR5"
      },
      "source": [
        "y_pred_lin_reg_2 = lin_reg_2.predict(poly_reg_2.fit_transform(year_arr.reshape(-1, 1)))\n",
        "y_pred_lin_reg_3 = lin_reg_3.predict(poly_reg_3.fit_transform(year_arr.reshape(-1, 1)))"
      ],
      "execution_count": null,
      "outputs": []
    },
    {
      "cell_type": "markdown",
      "metadata": {
        "id": "jDe0Tn2wKqjI"
      },
      "source": [
        "**Print coefficients of 2 models**"
      ]
    },
    {
      "cell_type": "markdown",
      "metadata": {
        "id": "0FBuZIqPLQBF"
      },
      "source": [
        "poly_reg_2"
      ]
    },
    {
      "cell_type": "code",
      "metadata": {
        "colab": {
          "base_uri": "https://localhost:8080/"
        },
        "id": "EYdwnfpaKImz",
        "outputId": "a63afde4-336a-47ec-bc1a-290f11358503"
      },
      "source": [
        "print(lin_reg_2.intercept_)"
      ],
      "execution_count": null,
      "outputs": [
        {
          "output_type": "stream",
          "name": "stdout",
          "text": [
            "129705240.80510715\n"
          ]
        }
      ]
    },
    {
      "cell_type": "code",
      "metadata": {
        "colab": {
          "base_uri": "https://localhost:8080/"
        },
        "id": "12vwO528CzqY",
        "outputId": "8f5590a9-56fc-4f95-8322-3ea3a61e0b31"
      },
      "source": [
        "print(lin_reg_2.coef_)"
      ],
      "execution_count": null,
      "outputs": [
        {
          "output_type": "stream",
          "name": "stdout",
          "text": [
            "[-1.29530723e+05  3.23390634e+01]\n"
          ]
        }
      ]
    },
    {
      "cell_type": "code",
      "metadata": {
        "colab": {
          "base_uri": "https://localhost:8080/"
        },
        "id": "yqHO7aZGHIIy",
        "outputId": "f6f26dca-af53-40e1-869e-3cf3cab64946"
      },
      "source": [
        "print(y_pred_lin_reg_2)"
      ],
      "execution_count": null,
      "outputs": [
        {
          "output_type": "stream",
          "name": "stdout",
          "text": [
            "[ 526.35670683  254.87001072   48.0614415   -94.06900088 -171.52131638\n",
            " -184.29550503 -132.39156678  -15.80950171  165.45069027  411.38900909\n",
            "  722.00545479 1097.30002734 1537.27272677 2041.92355305 2611.25250623\n",
            " 3245.25958624 3943.94479313 4707.3081269  5535.34958751 6428.069175  ]\n"
          ]
        }
      ]
    },
    {
      "cell_type": "markdown",
      "metadata": {
        "id": "OcIB6yVNLXL2"
      },
      "source": [
        "poly_reg_3"
      ]
    },
    {
      "cell_type": "code",
      "metadata": {
        "colab": {
          "base_uri": "https://localhost:8080/"
        },
        "id": "BNuGVxNW7V_B",
        "outputId": "928f51d0-9a7d-4564-8d7f-f960f42cfe23"
      },
      "source": [
        "print(lin_reg_3.intercept_)"
      ],
      "execution_count": null,
      "outputs": [
        {
          "output_type": "stream",
          "name": "stdout",
          "text": [
            "-17128661108.085476\n"
          ]
        }
      ]
    },
    {
      "cell_type": "code",
      "metadata": {
        "colab": {
          "base_uri": "https://localhost:8080/"
        },
        "id": "B5CaxsCtKHjH",
        "outputId": "0906301a-7f79-4baf-a9c8-b3d79760f027"
      },
      "source": [
        "print(lin_reg_3.coef_)"
      ],
      "execution_count": null,
      "outputs": [
        {
          "output_type": "stream",
          "name": "stdout",
          "text": [
            "[ 2.56615577e+07 -1.28150909e+04  2.13323868e+00]\n"
          ]
        }
      ]
    },
    {
      "cell_type": "code",
      "metadata": {
        "colab": {
          "base_uri": "https://localhost:8080/"
        },
        "id": "fUe40wAu7aUU",
        "outputId": "68609b73-8b05-44b7-b861-a4f9691044ed"
      },
      "source": [
        "print(y_pred_lin_reg_3)"
      ],
      "execution_count": null,
      "outputs": [
        {
          "output_type": "stream",
          "name": "stdout",
          "text": [
            "[ -93.77612686   26.39983368  102.45875549  147.20005035  173.42317581\n",
            "  193.92754364  221.51260376  268.97776604  349.12248421  474.74617577\n",
            "  658.6482811   913.62822914 1252.48545647 1688.01938438 2233.02945328\n",
            " 2900.31508827 3702.67573738 4652.91081429 5763.81976128 7048.20200348]\n"
          ]
        }
      ]
    },
    {
      "cell_type": "markdown",
      "metadata": {
        "id": "ywwZrp0iLacQ"
      },
      "source": [
        "Moore values"
      ]
    },
    {
      "cell_type": "code",
      "metadata": {
        "colab": {
          "base_uri": "https://localhost:8080/"
        },
        "id": "BsHKWE6WittH",
        "outputId": "13c4a19a-35d9-423d-93ed-eab75da51dc3"
      },
      "source": [
        "print(y_pred_moore_law_teoretic)"
      ],
      "execution_count": null,
      "outputs": [
        {
          "output_type": "stream",
          "name": "stdout",
          "text": [
            "[   16.            22.627417      32.            45.254834\n",
            "    64.            90.50966799   128.           181.01933598\n",
            "   256.           362.03867197   512.           724.07734394\n",
            "  1024.          1448.15468787  2048.          2896.30937574\n",
            "  4096.          5792.61875148  8192.         11585.23750296]\n"
          ]
        }
      ]
    },
    {
      "cell_type": "code",
      "metadata": {
        "colab": {
          "base_uri": "https://localhost:8080/"
        },
        "id": "h415S51WixNs",
        "outputId": "64200e72-05d5-4408-a0c3-eb02d95351e8"
      },
      "source": [
        "print(y_pred_moore_law_fitted)"
      ],
      "execution_count": null,
      "outputs": [
        {
          "output_type": "stream",
          "name": "stdout",
          "text": [
            "[  67.84120125   86.79955638  111.05586059  142.090636    181.79813954\n",
            "  232.60198187  297.60305638  380.7688071   487.17538799  623.31749408\n",
            "  797.5047755  1020.36903021 1305.51313269 1670.3413071  2137.1214217\n",
            " 2734.34414374 3498.46191258 4476.11387243 5726.97256669 7327.38614664]\n"
          ]
        }
      ]
    },
    {
      "cell_type": "markdown",
      "metadata": {
        "id": "Dqu_knKDK8xw"
      },
      "source": [
        "**Graph**"
      ]
    },
    {
      "cell_type": "code",
      "metadata": {
        "colab": {
          "base_uri": "https://localhost:8080/",
          "height": 517
        },
        "id": "vRHmN6RtiXz5",
        "outputId": "b2714c23-ac0c-4295-ad42-38951d4cafe9"
      },
      "source": [
        "trace1 = go.Scatter(\n",
        "    x = year_arr,\n",
        "    y = y_pred_lin_reg_2,\n",
        "    mode = 'lines',\n",
        "    name = '2nd degree polynomial'\n",
        ")\n",
        "trace2 = go.Scatter(\n",
        "    x = year_arr,\n",
        "    y = y_pred_lin_reg_3,\n",
        "    mode = 'lines',\n",
        "    name = '3rd degree polynomial'\n",
        ")\n",
        "trace3 = go.Scatter(\n",
        "    x = year_arr,\n",
        "    y = y_pred_moore_law_teoretic,\n",
        "    mode = 'lines',\n",
        "    name = \"Teoretic Moore's Law curve\"\n",
        ")\n",
        "trace4 = go.Scatter(\n",
        "    x = year_arr,\n",
        "    y = y_pred_moore_law_fitted,\n",
        "    mode = 'lines',\n",
        "    name = \"Fitted Moore's Law curve\"\n",
        ")\n",
        "\n",
        "data = [trace1, trace2, trace3, trace4]\n",
        "\n",
        "layout = go.Layout(\n",
        "    title = 'Fitting regression model into dataset',\n",
        "    width=1000,\n",
        "    height=500,\n",
        "    paper_bgcolor='rgb(243, 243, 243)',\n",
        "    plot_bgcolor='rgb(243, 243, 243)',\n",
        "    yaxis = dict(title= 'GPU Memory'),\n",
        "    xaxis = dict(title= 'Year of Release'),\n",
        "    legend=dict(\n",
        "        x=0,\n",
        "        y=1,\n",
        "        traceorder='normal',\n",
        "        font=dict(\n",
        "            family='sans-serif',\n",
        "            size=12,\n",
        "            color='#000'\n",
        "        ),\n",
        "        bgcolor='#E2E2E2',\n",
        "        bordercolor='#FFFFFF',\n",
        "        borderwidth=2\n",
        "    )\n",
        ")\n",
        "fig = go.Figure(data=data, layout=layout)\n",
        "\n",
        "py.iplot(fig)"
      ],
      "execution_count": null,
      "outputs": [
        {
          "output_type": "display_data",
          "data": {
            "text/html": [
              "<html>\n",
              "<head><meta charset=\"utf-8\" /></head>\n",
              "<body>\n",
              "    <div>\n",
              "            <script src=\"https://cdnjs.cloudflare.com/ajax/libs/mathjax/2.7.5/MathJax.js?config=TeX-AMS-MML_SVG\"></script><script type=\"text/javascript\">if (window.MathJax) {MathJax.Hub.Config({SVG: {font: \"STIX-Web\"}});}</script>\n",
              "                <script type=\"text/javascript\">window.PlotlyConfig = {MathJaxConfig: 'local'};</script>\n",
              "        <script src=\"https://cdn.plot.ly/plotly-latest.min.js\"></script>    \n",
              "            <div id=\"8b367e31-f24a-405d-be04-214f60f67899\" class=\"plotly-graph-div\" style=\"height:500px; width:1000px;\"></div>\n",
              "            <script type=\"text/javascript\">\n",
              "                \n",
              "                    window.PLOTLYENV=window.PLOTLYENV || {};\n",
              "                    \n",
              "                if (document.getElementById(\"8b367e31-f24a-405d-be04-214f60f67899\")) {\n",
              "                    Plotly.newPlot(\n",
              "                        '8b367e31-f24a-405d-be04-214f60f67899',\n",
              "                        [{\"mode\": \"lines\", \"name\": \"2nd degree polynomial\", \"type\": \"scatter\", \"x\": [1998, 1999, 2000, 2001, 2002, 2003, 2004, 2005, 2006, 2007, 2008, 2009, 2010, 2011, 2012, 2013, 2014, 2015, 2016, 2017], \"y\": [526.356706827879, 254.87001071870327, 48.061441496014595, -94.06900088489056, -171.5213163793087, -184.29550503194332, -132.39156678318977, -15.809501707553864, 165.45069026947021, 411.3890090882778, 722.0054547935724, 1097.3000273406506, 1537.2727267742157, 2041.9235530495644, 2611.252506226301, 3245.2595862448215, 3943.9447931349277, 4707.30812689662, 5535.3495875149965, 6428.069175004959]}, {\"mode\": \"lines\", \"name\": \"3rd degree polynomial\", \"type\": \"scatter\", \"x\": [1998, 1999, 2000, 2001, 2002, 2003, 2004, 2005, 2006, 2007, 2008, 2009, 2010, 2011, 2012, 2013, 2014, 2015, 2016, 2017], \"y\": [-93.77612686157227, 26.39983367919922, 102.45875549316406, 147.2000503540039, 173.42317581176758, 193.92754364013672, 221.51260375976562, 268.9777660369873, 349.1224842071533, 474.7461757659912, 658.6482810974121, 913.6282291412354, 1252.4854564666748, 1688.0193843841553, 2233.029453277588, 2900.3150882720947, 3702.6757373809814, 4652.910814285278, 5763.819761276245, 7048.202003479004]}, {\"mode\": \"lines\", \"name\": \"Teoretic Moore's Law curve\", \"type\": \"scatter\", \"x\": [1998, 1999, 2000, 2001, 2002, 2003, 2004, 2005, 2006, 2007, 2008, 2009, 2010, 2011, 2012, 2013, 2014, 2015, 2016, 2017], \"y\": [16.0, 22.627416997969522, 32.0, 45.254833995939045, 64.0, 90.50966799187809, 128.0, 181.01933598375618, 256.0, 362.03867196751236, 512.0, 724.0773439350247, 1024.0, 1448.1546878700494, 2048.0, 2896.309375740099, 4096.0, 5792.618751480198, 8192.0, 11585.237502960395]}, {\"mode\": \"lines\", \"name\": \"Fitted Moore's Law curve\", \"type\": \"scatter\", \"x\": [1998, 1999, 2000, 2001, 2002, 2003, 2004, 2005, 2006, 2007, 2008, 2009, 2010, 2011, 2012, 2013, 2014, 2015, 2016, 2017], \"y\": [67.8412012465164, 86.79955637928539, 111.05586058630736, 142.09063600132274, 181.79813953690336, 232.6019818700208, 297.603056377147, 380.7688070968859, 487.1753879914755, 623.3174940831066, 797.5047755015934, 1020.3690302057332, 1305.5131326933458, 1670.3413070966562, 2137.1214217028682, 2734.3441437367237, 3498.4619125804747, 4476.1138724294715, 5726.972566689243, 7327.386146637395]}],\n",
              "                        {\"height\": 500, \"legend\": {\"bgcolor\": \"#E2E2E2\", \"bordercolor\": \"#FFFFFF\", \"borderwidth\": 2, \"font\": {\"color\": \"#000\", \"family\": \"sans-serif\", \"size\": 12}, \"traceorder\": \"normal\", \"x\": 0, \"y\": 1}, \"paper_bgcolor\": \"rgb(243, 243, 243)\", \"plot_bgcolor\": \"rgb(243, 243, 243)\", \"template\": {\"data\": {\"bar\": [{\"error_x\": {\"color\": \"#2a3f5f\"}, \"error_y\": {\"color\": \"#2a3f5f\"}, \"marker\": {\"line\": {\"color\": \"#E5ECF6\", \"width\": 0.5}}, \"type\": \"bar\"}], \"barpolar\": [{\"marker\": {\"line\": {\"color\": \"#E5ECF6\", \"width\": 0.5}}, \"type\": \"barpolar\"}], \"carpet\": [{\"aaxis\": {\"endlinecolor\": \"#2a3f5f\", \"gridcolor\": \"white\", \"linecolor\": \"white\", \"minorgridcolor\": \"white\", \"startlinecolor\": \"#2a3f5f\"}, \"baxis\": {\"endlinecolor\": \"#2a3f5f\", \"gridcolor\": \"white\", \"linecolor\": \"white\", \"minorgridcolor\": \"white\", \"startlinecolor\": \"#2a3f5f\"}, \"type\": \"carpet\"}], \"choropleth\": [{\"colorbar\": {\"outlinewidth\": 0, \"ticks\": \"\"}, \"type\": \"choropleth\"}], \"contour\": [{\"colorbar\": {\"outlinewidth\": 0, \"ticks\": \"\"}, \"colorscale\": [[0.0, \"#0d0887\"], [0.1111111111111111, \"#46039f\"], [0.2222222222222222, \"#7201a8\"], [0.3333333333333333, \"#9c179e\"], [0.4444444444444444, \"#bd3786\"], [0.5555555555555556, \"#d8576b\"], [0.6666666666666666, \"#ed7953\"], [0.7777777777777778, \"#fb9f3a\"], [0.8888888888888888, \"#fdca26\"], [1.0, \"#f0f921\"]], \"type\": \"contour\"}], \"contourcarpet\": [{\"colorbar\": {\"outlinewidth\": 0, \"ticks\": \"\"}, \"type\": \"contourcarpet\"}], \"heatmap\": [{\"colorbar\": {\"outlinewidth\": 0, \"ticks\": \"\"}, \"colorscale\": [[0.0, \"#0d0887\"], [0.1111111111111111, \"#46039f\"], [0.2222222222222222, \"#7201a8\"], [0.3333333333333333, \"#9c179e\"], [0.4444444444444444, \"#bd3786\"], [0.5555555555555556, \"#d8576b\"], [0.6666666666666666, \"#ed7953\"], [0.7777777777777778, \"#fb9f3a\"], [0.8888888888888888, \"#fdca26\"], [1.0, \"#f0f921\"]], \"type\": \"heatmap\"}], \"heatmapgl\": [{\"colorbar\": {\"outlinewidth\": 0, \"ticks\": \"\"}, \"colorscale\": [[0.0, \"#0d0887\"], [0.1111111111111111, \"#46039f\"], [0.2222222222222222, \"#7201a8\"], [0.3333333333333333, \"#9c179e\"], [0.4444444444444444, \"#bd3786\"], [0.5555555555555556, \"#d8576b\"], [0.6666666666666666, \"#ed7953\"], [0.7777777777777778, \"#fb9f3a\"], [0.8888888888888888, \"#fdca26\"], [1.0, \"#f0f921\"]], \"type\": \"heatmapgl\"}], \"histogram\": [{\"marker\": {\"colorbar\": {\"outlinewidth\": 0, \"ticks\": \"\"}}, \"type\": \"histogram\"}], \"histogram2d\": [{\"colorbar\": {\"outlinewidth\": 0, \"ticks\": \"\"}, \"colorscale\": [[0.0, \"#0d0887\"], [0.1111111111111111, \"#46039f\"], [0.2222222222222222, \"#7201a8\"], [0.3333333333333333, \"#9c179e\"], [0.4444444444444444, \"#bd3786\"], [0.5555555555555556, \"#d8576b\"], [0.6666666666666666, \"#ed7953\"], [0.7777777777777778, \"#fb9f3a\"], [0.8888888888888888, \"#fdca26\"], [1.0, \"#f0f921\"]], \"type\": \"histogram2d\"}], \"histogram2dcontour\": [{\"colorbar\": {\"outlinewidth\": 0, \"ticks\": \"\"}, \"colorscale\": [[0.0, \"#0d0887\"], [0.1111111111111111, \"#46039f\"], [0.2222222222222222, \"#7201a8\"], [0.3333333333333333, \"#9c179e\"], [0.4444444444444444, \"#bd3786\"], [0.5555555555555556, \"#d8576b\"], [0.6666666666666666, \"#ed7953\"], [0.7777777777777778, \"#fb9f3a\"], [0.8888888888888888, \"#fdca26\"], [1.0, \"#f0f921\"]], \"type\": \"histogram2dcontour\"}], \"mesh3d\": [{\"colorbar\": {\"outlinewidth\": 0, \"ticks\": \"\"}, \"type\": \"mesh3d\"}], \"parcoords\": [{\"line\": {\"colorbar\": {\"outlinewidth\": 0, \"ticks\": \"\"}}, \"type\": \"parcoords\"}], \"pie\": [{\"automargin\": true, \"type\": \"pie\"}], \"scatter\": [{\"marker\": {\"colorbar\": {\"outlinewidth\": 0, \"ticks\": \"\"}}, \"type\": \"scatter\"}], \"scatter3d\": [{\"line\": {\"colorbar\": {\"outlinewidth\": 0, \"ticks\": \"\"}}, \"marker\": {\"colorbar\": {\"outlinewidth\": 0, \"ticks\": \"\"}}, \"type\": \"scatter3d\"}], \"scattercarpet\": [{\"marker\": {\"colorbar\": {\"outlinewidth\": 0, \"ticks\": \"\"}}, \"type\": \"scattercarpet\"}], \"scattergeo\": [{\"marker\": {\"colorbar\": {\"outlinewidth\": 0, \"ticks\": \"\"}}, \"type\": \"scattergeo\"}], \"scattergl\": [{\"marker\": {\"colorbar\": {\"outlinewidth\": 0, \"ticks\": \"\"}}, \"type\": \"scattergl\"}], \"scattermapbox\": [{\"marker\": {\"colorbar\": {\"outlinewidth\": 0, \"ticks\": \"\"}}, \"type\": \"scattermapbox\"}], \"scatterpolar\": [{\"marker\": {\"colorbar\": {\"outlinewidth\": 0, \"ticks\": \"\"}}, \"type\": \"scatterpolar\"}], \"scatterpolargl\": [{\"marker\": {\"colorbar\": {\"outlinewidth\": 0, \"ticks\": \"\"}}, \"type\": \"scatterpolargl\"}], \"scatterternary\": [{\"marker\": {\"colorbar\": {\"outlinewidth\": 0, \"ticks\": \"\"}}, \"type\": \"scatterternary\"}], \"surface\": [{\"colorbar\": {\"outlinewidth\": 0, \"ticks\": \"\"}, \"colorscale\": [[0.0, \"#0d0887\"], [0.1111111111111111, \"#46039f\"], [0.2222222222222222, \"#7201a8\"], [0.3333333333333333, \"#9c179e\"], [0.4444444444444444, \"#bd3786\"], [0.5555555555555556, \"#d8576b\"], [0.6666666666666666, \"#ed7953\"], [0.7777777777777778, \"#fb9f3a\"], [0.8888888888888888, \"#fdca26\"], [1.0, \"#f0f921\"]], \"type\": \"surface\"}], \"table\": [{\"cells\": {\"fill\": {\"color\": \"#EBF0F8\"}, \"line\": {\"color\": \"white\"}}, \"header\": {\"fill\": {\"color\": \"#C8D4E3\"}, \"line\": {\"color\": \"white\"}}, \"type\": \"table\"}]}, \"layout\": {\"annotationdefaults\": {\"arrowcolor\": \"#2a3f5f\", \"arrowhead\": 0, \"arrowwidth\": 1}, \"coloraxis\": {\"colorbar\": {\"outlinewidth\": 0, \"ticks\": \"\"}}, \"colorscale\": {\"diverging\": [[0, \"#8e0152\"], [0.1, \"#c51b7d\"], [0.2, \"#de77ae\"], [0.3, \"#f1b6da\"], [0.4, \"#fde0ef\"], [0.5, \"#f7f7f7\"], [0.6, \"#e6f5d0\"], [0.7, \"#b8e186\"], [0.8, \"#7fbc41\"], [0.9, \"#4d9221\"], [1, \"#276419\"]], \"sequential\": [[0.0, \"#0d0887\"], [0.1111111111111111, \"#46039f\"], [0.2222222222222222, \"#7201a8\"], [0.3333333333333333, \"#9c179e\"], [0.4444444444444444, \"#bd3786\"], [0.5555555555555556, \"#d8576b\"], [0.6666666666666666, \"#ed7953\"], [0.7777777777777778, \"#fb9f3a\"], [0.8888888888888888, \"#fdca26\"], [1.0, \"#f0f921\"]], \"sequentialminus\": [[0.0, \"#0d0887\"], [0.1111111111111111, \"#46039f\"], [0.2222222222222222, \"#7201a8\"], [0.3333333333333333, \"#9c179e\"], [0.4444444444444444, \"#bd3786\"], [0.5555555555555556, \"#d8576b\"], [0.6666666666666666, \"#ed7953\"], [0.7777777777777778, \"#fb9f3a\"], [0.8888888888888888, \"#fdca26\"], [1.0, \"#f0f921\"]]}, \"colorway\": [\"#636efa\", \"#EF553B\", \"#00cc96\", \"#ab63fa\", \"#FFA15A\", \"#19d3f3\", \"#FF6692\", \"#B6E880\", \"#FF97FF\", \"#FECB52\"], \"font\": {\"color\": \"#2a3f5f\"}, \"geo\": {\"bgcolor\": \"white\", \"lakecolor\": \"white\", \"landcolor\": \"#E5ECF6\", \"showlakes\": true, \"showland\": true, \"subunitcolor\": \"white\"}, \"hoverlabel\": {\"align\": \"left\"}, \"hovermode\": \"closest\", \"mapbox\": {\"style\": \"light\"}, \"paper_bgcolor\": \"white\", \"plot_bgcolor\": \"#E5ECF6\", \"polar\": {\"angularaxis\": {\"gridcolor\": \"white\", \"linecolor\": \"white\", \"ticks\": \"\"}, \"bgcolor\": \"#E5ECF6\", \"radialaxis\": {\"gridcolor\": \"white\", \"linecolor\": \"white\", \"ticks\": \"\"}}, \"scene\": {\"xaxis\": {\"backgroundcolor\": \"#E5ECF6\", \"gridcolor\": \"white\", \"gridwidth\": 2, \"linecolor\": \"white\", \"showbackground\": true, \"ticks\": \"\", \"zerolinecolor\": \"white\"}, \"yaxis\": {\"backgroundcolor\": \"#E5ECF6\", \"gridcolor\": \"white\", \"gridwidth\": 2, \"linecolor\": \"white\", \"showbackground\": true, \"ticks\": \"\", \"zerolinecolor\": \"white\"}, \"zaxis\": {\"backgroundcolor\": \"#E5ECF6\", \"gridcolor\": \"white\", \"gridwidth\": 2, \"linecolor\": \"white\", \"showbackground\": true, \"ticks\": \"\", \"zerolinecolor\": \"white\"}}, \"shapedefaults\": {\"line\": {\"color\": \"#2a3f5f\"}}, \"ternary\": {\"aaxis\": {\"gridcolor\": \"white\", \"linecolor\": \"white\", \"ticks\": \"\"}, \"baxis\": {\"gridcolor\": \"white\", \"linecolor\": \"white\", \"ticks\": \"\"}, \"bgcolor\": \"#E5ECF6\", \"caxis\": {\"gridcolor\": \"white\", \"linecolor\": \"white\", \"ticks\": \"\"}}, \"title\": {\"x\": 0.05}, \"xaxis\": {\"automargin\": true, \"gridcolor\": \"white\", \"linecolor\": \"white\", \"ticks\": \"\", \"title\": {\"standoff\": 15}, \"zerolinecolor\": \"white\", \"zerolinewidth\": 2}, \"yaxis\": {\"automargin\": true, \"gridcolor\": \"white\", \"linecolor\": \"white\", \"ticks\": \"\", \"title\": {\"standoff\": 15}, \"zerolinecolor\": \"white\", \"zerolinewidth\": 2}}}, \"title\": {\"text\": \"Fitting regression model into dataset\"}, \"width\": 1000, \"xaxis\": {\"title\": {\"text\": \"Year of Release\"}}, \"yaxis\": {\"title\": {\"text\": \"GPU Memory\"}}},\n",
              "                        {\"responsive\": true}\n",
              "                    ).then(function(){\n",
              "                            \n",
              "var gd = document.getElementById('8b367e31-f24a-405d-be04-214f60f67899');\n",
              "var x = new MutationObserver(function (mutations, observer) {{\n",
              "        var display = window.getComputedStyle(gd).display;\n",
              "        if (!display || display === 'none') {{\n",
              "            console.log([gd, 'removed!']);\n",
              "            Plotly.purge(gd);\n",
              "            observer.disconnect();\n",
              "        }}\n",
              "}});\n",
              "\n",
              "// Listen for the removal of the full notebook cells\n",
              "var notebookContainer = gd.closest('#notebook-container');\n",
              "if (notebookContainer) {{\n",
              "    x.observe(notebookContainer, {childList: true});\n",
              "}}\n",
              "\n",
              "// Listen for the clearing of the current output cell\n",
              "var outputEl = gd.closest('.output');\n",
              "if (outputEl) {{\n",
              "    x.observe(outputEl, {childList: true});\n",
              "}}\n",
              "\n",
              "                        })\n",
              "                };\n",
              "                \n",
              "            </script>\n",
              "        </div>\n",
              "</body>\n",
              "</html>"
            ]
          },
          "metadata": {}
        }
      ]
    }
  ]
}